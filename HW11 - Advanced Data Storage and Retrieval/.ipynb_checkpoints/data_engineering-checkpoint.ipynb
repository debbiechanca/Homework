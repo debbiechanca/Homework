{
 "cells": [
  {
   "cell_type": "code",
   "execution_count": 1,
   "metadata": {},
   "outputs": [],
   "source": [
    "# Import modules\n",
    "import pandas as pd\n",
    "import numpy as np"
   ]
  },
  {
   "cell_type": "code",
   "execution_count": 2,
   "metadata": {},
   "outputs": [],
   "source": [
    "# Open csv files for reading City Survey Master Data 1996-2017 csv file downloaded from http://sfgov.org/citysurvey/file/95.\n",
    "# Save path to data set in a variable\n",
    "measurements = \"Resources/hawaii_measurements.csv\"\n",
    "stations = \"Resources/hawaii_stations.csv\""
   ]
  },
  {
   "cell_type": "code",
   "execution_count": 3,
   "metadata": {},
   "outputs": [
    {
     "data": {
      "text/html": [
       "<div>\n",
       "<style scoped>\n",
       "    .dataframe tbody tr th:only-of-type {\n",
       "        vertical-align: middle;\n",
       "    }\n",
       "\n",
       "    .dataframe tbody tr th {\n",
       "        vertical-align: top;\n",
       "    }\n",
       "\n",
       "    .dataframe thead th {\n",
       "        text-align: right;\n",
       "    }\n",
       "</style>\n",
       "<table border=\"1\" class=\"dataframe\">\n",
       "  <thead>\n",
       "    <tr style=\"text-align: right;\">\n",
       "      <th></th>\n",
       "      <th>station</th>\n",
       "      <th>date</th>\n",
       "      <th>prcp</th>\n",
       "      <th>tobs</th>\n",
       "    </tr>\n",
       "  </thead>\n",
       "  <tbody>\n",
       "    <tr>\n",
       "      <th>0</th>\n",
       "      <td>USC00519397</td>\n",
       "      <td>2010-01-01</td>\n",
       "      <td>0.08</td>\n",
       "      <td>65</td>\n",
       "    </tr>\n",
       "    <tr>\n",
       "      <th>1</th>\n",
       "      <td>USC00519397</td>\n",
       "      <td>2010-01-02</td>\n",
       "      <td>0.00</td>\n",
       "      <td>63</td>\n",
       "    </tr>\n",
       "    <tr>\n",
       "      <th>2</th>\n",
       "      <td>USC00519397</td>\n",
       "      <td>2010-01-03</td>\n",
       "      <td>0.00</td>\n",
       "      <td>74</td>\n",
       "    </tr>\n",
       "    <tr>\n",
       "      <th>3</th>\n",
       "      <td>USC00519397</td>\n",
       "      <td>2010-01-04</td>\n",
       "      <td>0.00</td>\n",
       "      <td>76</td>\n",
       "    </tr>\n",
       "    <tr>\n",
       "      <th>4</th>\n",
       "      <td>USC00519397</td>\n",
       "      <td>2010-01-06</td>\n",
       "      <td>NaN</td>\n",
       "      <td>73</td>\n",
       "    </tr>\n",
       "  </tbody>\n",
       "</table>\n",
       "</div>"
      ],
      "text/plain": [
       "       station        date  prcp  tobs\n",
       "0  USC00519397  2010-01-01  0.08    65\n",
       "1  USC00519397  2010-01-02  0.00    63\n",
       "2  USC00519397  2010-01-03  0.00    74\n",
       "3  USC00519397  2010-01-04  0.00    76\n",
       "4  USC00519397  2010-01-06   NaN    73"
      ]
     },
     "execution_count": 3,
     "metadata": {},
     "output_type": "execute_result"
    }
   ],
   "source": [
    "# Use Pandas to read measurements data\n",
    "measurements_df = pd.read_csv(measurements)\n",
    "measurements_df.head()"
   ]
  },
  {
   "cell_type": "code",
   "execution_count": 4,
   "metadata": {},
   "outputs": [
    {
     "data": {
      "text/html": [
       "<div>\n",
       "<style scoped>\n",
       "    .dataframe tbody tr th:only-of-type {\n",
       "        vertical-align: middle;\n",
       "    }\n",
       "\n",
       "    .dataframe tbody tr th {\n",
       "        vertical-align: top;\n",
       "    }\n",
       "\n",
       "    .dataframe thead th {\n",
       "        text-align: right;\n",
       "    }\n",
       "</style>\n",
       "<table border=\"1\" class=\"dataframe\">\n",
       "  <thead>\n",
       "    <tr style=\"text-align: right;\">\n",
       "      <th></th>\n",
       "      <th>station</th>\n",
       "      <th>name</th>\n",
       "      <th>latitude</th>\n",
       "      <th>longitude</th>\n",
       "      <th>elevation</th>\n",
       "    </tr>\n",
       "  </thead>\n",
       "  <tbody>\n",
       "    <tr>\n",
       "      <th>0</th>\n",
       "      <td>USC00519397</td>\n",
       "      <td>WAIKIKI 717.2, HI US</td>\n",
       "      <td>21.2716</td>\n",
       "      <td>-157.8168</td>\n",
       "      <td>3.0</td>\n",
       "    </tr>\n",
       "    <tr>\n",
       "      <th>1</th>\n",
       "      <td>USC00513117</td>\n",
       "      <td>KANEOHE 838.1, HI US</td>\n",
       "      <td>21.4234</td>\n",
       "      <td>-157.8015</td>\n",
       "      <td>14.6</td>\n",
       "    </tr>\n",
       "    <tr>\n",
       "      <th>2</th>\n",
       "      <td>USC00514830</td>\n",
       "      <td>KUALOA RANCH HEADQUARTERS 886.9, HI US</td>\n",
       "      <td>21.5213</td>\n",
       "      <td>-157.8374</td>\n",
       "      <td>7.0</td>\n",
       "    </tr>\n",
       "    <tr>\n",
       "      <th>3</th>\n",
       "      <td>USC00517948</td>\n",
       "      <td>PEARL CITY, HI US</td>\n",
       "      <td>21.3934</td>\n",
       "      <td>-157.9751</td>\n",
       "      <td>11.9</td>\n",
       "    </tr>\n",
       "    <tr>\n",
       "      <th>4</th>\n",
       "      <td>USC00518838</td>\n",
       "      <td>UPPER WAHIAWA 874.3, HI US</td>\n",
       "      <td>21.4992</td>\n",
       "      <td>-158.0111</td>\n",
       "      <td>306.6</td>\n",
       "    </tr>\n",
       "  </tbody>\n",
       "</table>\n",
       "</div>"
      ],
      "text/plain": [
       "       station                                    name  latitude  longitude  \\\n",
       "0  USC00519397                    WAIKIKI 717.2, HI US   21.2716  -157.8168   \n",
       "1  USC00513117                    KANEOHE 838.1, HI US   21.4234  -157.8015   \n",
       "2  USC00514830  KUALOA RANCH HEADQUARTERS 886.9, HI US   21.5213  -157.8374   \n",
       "3  USC00517948                       PEARL CITY, HI US   21.3934  -157.9751   \n",
       "4  USC00518838              UPPER WAHIAWA 874.3, HI US   21.4992  -158.0111   \n",
       "\n",
       "   elevation  \n",
       "0        3.0  \n",
       "1       14.6  \n",
       "2        7.0  \n",
       "3       11.9  \n",
       "4      306.6  "
      ]
     },
     "execution_count": 4,
     "metadata": {},
     "output_type": "execute_result"
    }
   ],
   "source": [
    "# Use Pandas to read stations data\n",
    "stations_df = pd.read_csv(stations)\n",
    "stations_df.head()"
   ]
  },
  {
   "cell_type": "code",
   "execution_count": 5,
   "metadata": {},
   "outputs": [
    {
     "data": {
      "text/plain": [
       "station      9\n",
       "name         9\n",
       "latitude     9\n",
       "longitude    9\n",
       "elevation    9\n",
       "dtype: int64"
      ]
     },
     "execution_count": 5,
     "metadata": {},
     "output_type": "execute_result"
    }
   ],
   "source": [
    "stations_df.count()"
   ]
  },
  {
   "cell_type": "code",
   "execution_count": 6,
   "metadata": {},
   "outputs": [
    {
     "data": {
      "text/plain": [
       "station    19550\n",
       "date       19550\n",
       "prcp       18103\n",
       "tobs       19550\n",
       "dtype: int64"
      ]
     },
     "execution_count": 6,
     "metadata": {},
     "output_type": "execute_result"
    }
   ],
   "source": [
    "measurements_df.count()"
   ]
  },
  {
   "cell_type": "code",
   "execution_count": 7,
   "metadata": {},
   "outputs": [
    {
     "data": {
      "text/plain": [
       "True"
      ]
     },
     "execution_count": 7,
     "metadata": {},
     "output_type": "execute_result"
    }
   ],
   "source": [
    "measurements_df.isnull().values.any()"
   ]
  },
  {
   "cell_type": "code",
   "execution_count": 8,
   "metadata": {},
   "outputs": [
    {
     "name": "stdout",
     "output_type": "stream",
     "text": [
      "           station        date  prcp  tobs\n",
      "4      USC00519397  2010-01-06   NaN    73\n",
      "26     USC00519397  2010-01-30   NaN    70\n",
      "29     USC00519397  2010-02-03   NaN    67\n",
      "43     USC00519397  2010-02-19   NaN    63\n",
      "61     USC00519397  2010-03-11   NaN    73\n",
      "72     USC00519397  2010-03-26   NaN    72\n",
      "122    USC00519397  2010-05-21   NaN    77\n",
      "176    USC00519397  2010-07-16   NaN    78\n",
      "282    USC00519397  2010-11-04   NaN    73\n",
      "294    USC00519397  2010-11-19   NaN    72\n",
      "324    USC00519397  2010-12-26   NaN    74\n",
      "341    USC00519397  2011-01-13   NaN    68\n",
      "369    USC00519397  2011-02-12   NaN    68\n",
      "390    USC00519397  2011-03-08   NaN    72\n",
      "490    USC00519397  2011-06-24   NaN    77\n",
      "586    USC00519397  2011-10-05   NaN    79\n",
      "830    USC00519397  2012-06-08   NaN    77\n",
      "831    USC00519397  2012-06-09   NaN    76\n",
      "861    USC00519397  2012-07-09   NaN    77\n",
      "901    USC00519397  2012-08-18   NaN    77\n",
      "902    USC00519397  2012-08-19   NaN    76\n",
      "1011   USC00519397  2012-12-06   NaN    69\n",
      "1012   USC00519397  2012-12-07   NaN    69\n",
      "1045   USC00519397  2013-01-10   NaN    72\n",
      "1046   USC00519397  2013-01-11   NaN    72\n",
      "1240   USC00519397  2013-07-24   NaN    79\n",
      "1410   USC00519397  2014-01-10   NaN    72\n",
      "1411   USC00519397  2014-01-11   NaN    70\n",
      "1528   USC00519397  2014-05-08   NaN    73\n",
      "1529   USC00519397  2014-05-09   NaN    77\n",
      "...            ...         ...   ...   ...\n",
      "19128  USC00516128  2016-06-05   NaN    73\n",
      "19147  USC00516128  2016-06-25   NaN    73\n",
      "19152  USC00516128  2016-07-01   NaN    74\n",
      "19153  USC00516128  2016-07-04   NaN    74\n",
      "19170  USC00516128  2016-07-23   NaN    74\n",
      "19181  USC00516128  2016-08-03   NaN    74\n",
      "19182  USC00516128  2016-08-04   NaN    74\n",
      "19183  USC00516128  2016-08-05   NaN    75\n",
      "19184  USC00516128  2016-08-06   NaN    77\n",
      "19204  USC00516128  2016-08-27   NaN    74\n",
      "19287  USC00516128  2016-11-20   NaN    74\n",
      "19314  USC00516128  2016-12-18   NaN    67\n",
      "19361  USC00516128  2017-02-04   NaN    66\n",
      "19374  USC00516128  2017-02-18   NaN    72\n",
      "19396  USC00516128  2017-03-13   NaN    69\n",
      "19400  USC00516128  2017-03-18   NaN    70\n",
      "19412  USC00516128  2017-03-31   NaN    76\n",
      "19419  USC00516128  2017-04-08   NaN    76\n",
      "19444  USC00516128  2017-05-04   NaN    74\n",
      "19459  USC00516128  2017-05-20   NaN    70\n",
      "19468  USC00516128  2017-05-30   NaN    72\n",
      "19470  USC00516128  2017-06-03   NaN    74\n",
      "19476  USC00516128  2017-06-10   NaN    72\n",
      "19528  USC00516128  2017-08-01   NaN    72\n",
      "19531  USC00516128  2017-08-05   NaN    77\n",
      "19532  USC00516128  2017-08-06   NaN    79\n",
      "19537  USC00516128  2017-08-11   NaN    72\n",
      "19539  USC00516128  2017-08-13   NaN    80\n",
      "19544  USC00516128  2017-08-18   NaN    76\n",
      "19546  USC00516128  2017-08-20   NaN    78\n",
      "\n",
      "[1447 rows x 4 columns]\n"
     ]
    }
   ],
   "source": [
    "nan_rows = measurements_df[measurements_df['prcp'].isnull()]\n",
    "print (nan_rows)"
   ]
  },
  {
   "cell_type": "code",
   "execution_count": 9,
   "metadata": {},
   "outputs": [
    {
     "data": {
      "text/plain": [
       "station    18103\n",
       "date       18103\n",
       "prcp       18103\n",
       "tobs       18103\n",
       "dtype: int64"
      ]
     },
     "execution_count": 9,
     "metadata": {},
     "output_type": "execute_result"
    }
   ],
   "source": [
    "# Remove rows with NaNs.\n",
    "measurements_df = measurements_df[np.isfinite(measurements_df['prcp'])]\n",
    "measurements_df.count()"
   ]
  },
  {
   "cell_type": "code",
   "execution_count": 10,
   "metadata": {},
   "outputs": [],
   "source": [
    "measurements_df.to_csv(\"Resources/clean_hawaii_measurements.csv\", index=False, header=True)"
   ]
  },
  {
   "cell_type": "code",
   "execution_count": null,
   "metadata": {},
   "outputs": [],
   "source": []
  }
 ],
 "metadata": {
  "kernelspec": {
   "display_name": "PythonData2",
   "language": "python",
   "name": "envname"
  },
  "language_info": {
   "codemirror_mode": {
    "name": "ipython",
    "version": 3
   },
   "file_extension": ".py",
   "mimetype": "text/x-python",
   "name": "python",
   "nbconvert_exporter": "python",
   "pygments_lexer": "ipython3",
   "version": "3.6.4"
  }
 },
 "nbformat": 4,
 "nbformat_minor": 2
}
