{
 "cells": [
  {
   "cell_type": "code",
   "execution_count": 1,
   "metadata": {},
   "outputs": [],
   "source": [
    "# Dependencies\n",
    "import json\n",
    "import pandas as pd\n",
    "import random\n",
    "import requests as req\n",
    "import apikeys\n",
    "import openweathermapy as ow\n",
    "import csv\n",
    "import matplotlib.pyplot as plt\n",
    "\n",
    "from citipy import citipy"
   ]
  },
  {
   "cell_type": "code",
   "execution_count": 2,
   "metadata": {},
   "outputs": [],
   "source": [
    "# Randomly generate the latitude and longitude\n",
    "number_of_cities = 5\n",
    "coordinates = [[]]*number_of_cities\n",
    "\n",
    "for x in range (number_of_cities):\n",
    "    coordinates[x] = (random.randint(-90, 90), random.randint(-180, 180))\n",
    "\n",
    "#print (coordinates)"
   ]
  },
  {
   "cell_type": "code",
   "execution_count": 3,
   "metadata": {},
   "outputs": [],
   "source": [
    "# Use the randomly generated latitude and longitude to find the nearest city using citipy library.\n",
    "cities = []\n",
    "for lat, lon in coordinates:\n",
    "    cities.append(citipy.nearest_city(lat, lon))\n",
    "\n",
    "# Print city and country code for debugging purpose\n",
    "#for city in cities:\n",
    "#    country_code = city.country_code\n",
    "#    name = city.city_name\n",
    "#    print(\"The country code of \" + name + \" is '\" + country_code + \"'.\")"
   ]
  },
  {
   "cell_type": "code",
   "execution_count": 4,
   "metadata": {},
   "outputs": [
    {
     "name": "stdout",
     "output_type": "stream",
     "text": [
      "  tiksi http://api.openweathermap.org/data/2.5/weather?q=tiksi&units=imperial&appid=6f403835e1df12c89e4b99571a133d5f\n",
      "  punta arenas http://api.openweathermap.org/data/2.5/weather?q=punta arenas&units=imperial&appid=6f403835e1df12c89e4b99571a133d5f\n",
      "  dosso http://api.openweathermap.org/data/2.5/weather?q=dosso&units=imperial&appid=6f403835e1df12c89e4b99571a133d5f\n",
      "  nantucket http://api.openweathermap.org/data/2.5/weather?q=nantucket&units=imperial&appid=6f403835e1df12c89e4b99571a133d5f\n",
      "  hobart http://api.openweathermap.org/data/2.5/weather?q=hobart&units=imperial&appid=6f403835e1df12c89e4b99571a133d5f\n",
      "\n",
      "The weather API responded with: \n",
      "\n"
     ]
    }
   ],
   "source": [
    "# Save config information\n",
    "url = \"http://api.openweathermap.org/data/2.5/weather\"\n",
    "\n",
    "params = {'APPID': apikeys.OWM_API_KEY,\n",
    "          'q': '',\n",
    "          'units': 'imperial',\n",
    "#          'format' : 'json'\n",
    "         }\n",
    "\n",
    "weather_data = []\n",
    "\n",
    "# Open the file using \"write\" mode. Specify the variable to hold the contents\n",
    "with open('weather.csv', 'w', newline='') as csvfile:\n",
    "    \n",
    "    # Initialize csv.writer\n",
    "    csvwriter = csv.writer(csvfile, delimiter=',')\n",
    "    \n",
    "    # Write the first row (column headers)\n",
    "    csvwriter.writerow(['City Number', 'City Name', 'URL'])\n",
    "    \n",
    "    # Loop through the list of cities and perform a request for data on each\n",
    "    for city in cities:\n",
    "        params['q'] = city.city_name\n",
    "        weather_response = req.get(url, params=params).json()\n",
    "    \n",
    "        # Add data to `weather_data` list    \n",
    "        weather_data.append(weather_response)\n",
    "\n",
    "        # Print out city number, city name, and url used for processing\n",
    "        #city_number = weather_data.get(\"id\")\n",
    "        query_url = url + \"?q=\" + city.city_name + \"&units=imperial\" + \"&appid=\" + apikeys.OWM_API_KEY \n",
    "        print(\" \", city.city_name, query_url)\n",
    "        \n",
    "        # Save the city number, city name, and url used for processing in a csv file.\n",
    "        csvrow = \" \", city.city_name, query_url\n",
    "        csvwriter.writerow(csvrow)\n",
    "\n",
    "# Pretty print the response\n",
    "print()\n",
    "print(\"The weather API responded with: \")\n",
    "\n",
    "#print(json.dumps(weather_data, indent=4, sort_keys=True))\n",
    "print()"
   ]
  },
  {
   "cell_type": "code",
   "execution_count": 5,
   "metadata": {},
   "outputs": [],
   "source": [
    "#Save the latitude of the random cities selected.\n",
    "lat = [data.get(\"coord\").get(\"lat\") for data in weather_data]"
   ]
  },
  {
   "cell_type": "code",
   "execution_count": 6,
   "metadata": {},
   "outputs": [],
   "source": [
    "# Extract temperature, humidity, cloudiness, and wind data to show relationship against latitude.\n",
    "temp_data = [data.get(\"main\").get(\"temp\") for data in weather_data]\n",
    "humidity_data = [data.get(\"main\").get(\"humidity\") for data in weather_data]\n",
    "cloudiness_data = [data.get(\"clouds\").get(\"all\") for data in weather_data]\n",
    "speed_data = [data['wind']['speed'] for data in weather_data]"
   ]
  },
  {
   "cell_type": "code",
   "execution_count": 9,
   "metadata": {},
   "outputs": [
    {
     "data": {
      "image/png": "[encoded data removed]",
      "text/plain": [
       "<matplotlib.figure.Figure at 0x1ede7beed30>"
      ]
     },
     "metadata": {},
     "output_type": "display_data"
    }
   ],
   "source": [
    "#Scatter plots to showcase the following relationships: #  Temperature (F) vs. Latitude and Humidity (%) vs. Latitude\n",
    "\n",
    "# Create figure\n",
    "fig = plt.figure(figsize=(20, 5))\n",
    "\n",
    "# Make plot on the left\n",
    "fig.add_subplot(1, 2, 1)\n",
    "plt.title(\"Temperature (F) vs. Latitude (3/19/2018)\")\n",
    "plt.xlabel(\"Latitude\")\n",
    "plt.ylabel(\"Temperature (F)\")\n",
    "\n",
    "# ADJUST FIGURE SIZE TO FIT ALL EXTREME POINTS\n",
    "plt.xlim(min(lat) - 5, max(lat) + 5)\n",
    "plt.ylim(min(temp_data) - 5, max(temp_data) + 5)\n",
    "\n",
    "plt.scatter(lat, temp_data, marker=\"o\", color=\"green\")\n",
    "\n",
    "#  Scatter plot to showcase Humidity (%) vs. Latitude\n",
    "\n",
    "# Make plot on the right\n",
    "fig.add_subplot(1, 2, 2)\n",
    "plt.title(\"Humidity (%) vs. Latitude (3/19/2018)\")\n",
    "plt.xlabel(\"Latitude\")\n",
    "plt.ylabel(\"Humidity (%)\")\n",
    "\n",
    "# ADJUST FIGURE SIZE TO FIT ALL EXTREME POINTS\n",
    "plt.xlim(min(lat) - 5, max(lat) + 5)\n",
    "plt.ylim(min(humidity_data) - 5, max(humidity_data) + 5)\n",
    "\n",
    "plt.scatter(lat, humidity_data, marker=\"o\", color=\"orange\")\n",
    "plt.show()"
   ]
  },
  {
   "cell_type": "code",
   "execution_count": 8,
   "metadata": {},
   "outputs": [
    {
     "data": {
      "image/png": "[encoded data removed]",
      "text/plain": [
       "<matplotlib.figure.Figure at 0x1ede78ac2b0>"
      ]
     },
     "metadata": {},
     "output_type": "display_data"
    }
   ],
   "source": [
    "#  Scatter plot to showcase Cloudiness (%)vs. Latitude and Wind Speed (mph) vs. Latitude\n",
    "\n",
    "# Create figure\n",
    "fig = plt.figure(figsize=(20, 5))\n",
    "\n",
    "# Make plot on the left\n",
    "fig.add_subplot(1, 2, 1)\n",
    "plt.title(\"Cloudiness (%) vs. Latitude (3/19/2018)\")\n",
    "plt.xlabel(\"Latitude\")\n",
    "plt.ylabel(\"Cloudiness (%)\")\n",
    "\n",
    "# ADJUST FIGURE SIZE TO FIT ALL EXTREME POINTS\n",
    "plt.xlim(min(lat) - 5, max(lat) + 5)\n",
    "plt.ylim(min(cloudiness_data) - 5, max(cloudiness_data) + 5)\n",
    "\n",
    "plt.scatter(lat, cloudiness_data, marker=\"o\", color=\"blue\")\n",
    "\n",
    "#  Scatter plot to showcase  Wind Speed (mph) vs. Latitude\n",
    "\n",
    "# Make plot on the right\n",
    "fig.add_subplot(1, 2, 2)\n",
    "plt.title(\"Wind Speed (mph) vs. Latitude (3/19/2018)\")\n",
    "plt.xlabel(\"Latitude\")\n",
    "plt.ylabel(\"Wind Speed (mph)\")\n",
    "\n",
    "# ADJUST FIGURE SIZE TO FIT ALL EXTREME POINTS\n",
    "plt.xlim(min(lat) - 5, max(lat) + 5)\n",
    "plt.ylim(min(speed_data) - 5, max(speed_data) + 5)\n",
    "\n",
    "plt.scatter(lat, speed_data, marker=\"o\", color=\"teal\")\n",
    "plt.show()"
   ]
  },
  {
   "cell_type": "code",
   "execution_count": null,
   "metadata": {},
   "outputs": [],
   "source": []
  }
 ],
 "metadata": {
  "kernelspec": {
   "display_name": "Python (PythonData)",
   "language": "python",
   "name": "pythondata"
  },
  "language_info": {
   "codemirror_mode": {
    "name": "ipython",
    "version": 3
   },
   "file_extension": ".py",
   "mimetype": "text/x-python",
   "name": "python",
   "nbconvert_exporter": "python",
   "pygments_lexer": "ipython3",
   "version": "3.6.4"
  }
 },
 "nbformat": 4,
 "nbformat_minor": 2
}
