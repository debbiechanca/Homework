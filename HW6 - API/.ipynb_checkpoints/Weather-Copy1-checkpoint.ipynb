{
 "cells": [
  {
   "cell_type": "code",
   "execution_count": 1,
   "metadata": {},
   "outputs": [],
   "source": [
    "# Dependencies\n",
    "import json\n",
    "import pandas as pd\n",
    "import random\n",
    "import requests as req\n",
    "import apikeys\n",
    "import openweathermapy as ow\n",
    "import csv\n",
    "import matplotlib.pyplot as plt\n",
    "\n",
    "from citipy import citipy"
   ]
  },
  {
   "cell_type": "code",
   "execution_count": 2,
   "metadata": {},
   "outputs": [],
   "source": [
    "# Randomly generate the latitude and longitude\n",
    "number_of_cities = 20\n",
    "coordinates = [[]]*number_of_cities\n",
    "\n",
    "for x in range (number_of_cities):\n",
    "    coordinates[x] = (random.randint(-90, 90), random.randint(-180, 180))\n",
    "\n",
    "#print (coordinates)"
   ]
  },
  {
   "cell_type": "code",
   "execution_count": 3,
   "metadata": {},
   "outputs": [],
   "source": [
    "# Use the randomly generated latitude and longitude to find the nearest city using citipy library.\n",
    "cities = []\n",
    "for lat, lon in coordinates:\n",
    "    cities.append(citipy.nearest_city(lat, lon), lat, lon)\n",
    "\n",
    "# Print city and country code for debugging purpose\n",
    "#for city in cities:\n",
    "#    country_code = city.country_code\n",
    "#    name = city.city_name\n",
    "#    print(\"The country code of \" + name + \" is '\" + country_code + \"'.\")"
   ]
  },
  {
   "cell_type": "code",
   "execution_count": 28,
   "metadata": {},
   "outputs": [
    {
     "name": "stdout",
     "output_type": "stream",
     "text": [
      "  bluff http://api.openweathermap.org/data/2.5/weather?q=bluff&units=imperial&appid=6f403835e1df12c89e4b99571a133d5f\n",
      "  gizo http://api.openweathermap.org/data/2.5/weather?q=gizo&units=imperial&appid=6f403835e1df12c89e4b99571a133d5f\n",
      "  jamestown http://api.openweathermap.org/data/2.5/weather?q=jamestown&units=imperial&appid=6f403835e1df12c89e4b99571a133d5f\n",
      "  new norfolk http://api.openweathermap.org/data/2.5/weather?q=new norfolk&units=imperial&appid=6f403835e1df12c89e4b99571a133d5f\n",
      "  okakarara http://api.openweathermap.org/data/2.5/weather?q=okakarara&units=imperial&appid=6f403835e1df12c89e4b99571a133d5f\n",
      "  erzin http://api.openweathermap.org/data/2.5/weather?q=erzin&units=imperial&appid=6f403835e1df12c89e4b99571a133d5f\n",
      "  te anau http://api.openweathermap.org/data/2.5/weather?q=te anau&units=imperial&appid=6f403835e1df12c89e4b99571a133d5f\n",
      "  clyde river http://api.openweathermap.org/data/2.5/weather?q=clyde river&units=imperial&appid=6f403835e1df12c89e4b99571a133d5f\n",
      "  warri http://api.openweathermap.org/data/2.5/weather?q=warri&units=imperial&appid=6f403835e1df12c89e4b99571a133d5f\n",
      "  sarangani http://api.openweathermap.org/data/2.5/weather?q=sarangani&units=imperial&appid=6f403835e1df12c89e4b99571a133d5f\n",
      "  provideniya http://api.openweathermap.org/data/2.5/weather?q=provideniya&units=imperial&appid=6f403835e1df12c89e4b99571a133d5f\n",
      "  mataura http://api.openweathermap.org/data/2.5/weather?q=mataura&units=imperial&appid=6f403835e1df12c89e4b99571a133d5f\n",
      "  rikitea http://api.openweathermap.org/data/2.5/weather?q=rikitea&units=imperial&appid=6f403835e1df12c89e4b99571a133d5f\n",
      "  nikolskoye http://api.openweathermap.org/data/2.5/weather?q=nikolskoye&units=imperial&appid=6f403835e1df12c89e4b99571a133d5f\n",
      "  mataura http://api.openweathermap.org/data/2.5/weather?q=mataura&units=imperial&appid=6f403835e1df12c89e4b99571a133d5f\n",
      "  rikitea http://api.openweathermap.org/data/2.5/weather?q=rikitea&units=imperial&appid=6f403835e1df12c89e4b99571a133d5f\n",
      "  samusu http://api.openweathermap.org/data/2.5/weather?q=samusu&units=imperial&appid=6f403835e1df12c89e4b99571a133d5f\n",
      "  nikolskoye http://api.openweathermap.org/data/2.5/weather?q=nikolskoye&units=imperial&appid=6f403835e1df12c89e4b99571a133d5f\n",
      "  airai http://api.openweathermap.org/data/2.5/weather?q=airai&units=imperial&appid=6f403835e1df12c89e4b99571a133d5f\n",
      "  nizhneyansk http://api.openweathermap.org/data/2.5/weather?q=nizhneyansk&units=imperial&appid=6f403835e1df12c89e4b99571a133d5f\n",
      "\n",
      "The weather API responded with: \n"
     ]
    },
    {
     "ename": "TypeError",
     "evalue": "list indices must be integers or slices, not str",
     "output_type": "error",
     "traceback": [
      "\u001b[1;31m---------------------------------------------------------------------------\u001b[0m",
      "\u001b[1;31mTypeError\u001b[0m                                 Traceback (most recent call last)",
      "\u001b[1;32m<ipython-input-28-5b6e9bf7a1e4>\u001b[0m in \u001b[0;36m<module>\u001b[1;34m()\u001b[0m\n\u001b[0;32m     39\u001b[0m \u001b[0mprint\u001b[0m\u001b[1;33m(\u001b[0m\u001b[1;33m)\u001b[0m\u001b[1;33m\u001b[0m\u001b[0m\n\u001b[0;32m     40\u001b[0m \u001b[0mprint\u001b[0m\u001b[1;33m(\u001b[0m\u001b[1;34m\"The weather API responded with: \"\u001b[0m\u001b[1;33m)\u001b[0m\u001b[1;33m\u001b[0m\u001b[0m\n\u001b[1;32m---> 41\u001b[1;33m \u001b[0mprint\u001b[0m\u001b[1;33m(\u001b[0m\u001b[0mweather_data\u001b[0m\u001b[1;33m[\u001b[0m\u001b[1;36m0\u001b[0m\u001b[1;33m:\u001b[0m\u001b[0mnumber_of_cities\u001b[0m \u001b[1;33m-\u001b[0m \u001b[1;36m1\u001b[0m\u001b[1;33m]\u001b[0m\u001b[1;33m[\u001b[0m\u001b[1;34m'coord'\u001b[0m\u001b[1;33m]\u001b[0m\u001b[1;33m)\u001b[0m\u001b[1;33m\u001b[0m\u001b[0m\n\u001b[0m\u001b[0;32m     42\u001b[0m \u001b[1;31m#print(json.dumps(weather_data, indent=4, sort_keys=True))\u001b[0m\u001b[1;33m\u001b[0m\u001b[1;33m\u001b[0m\u001b[0m\n\u001b[0;32m     43\u001b[0m \u001b[0mprint\u001b[0m\u001b[1;33m(\u001b[0m\u001b[1;33m)\u001b[0m\u001b[1;33m\u001b[0m\u001b[0m\n",
      "\u001b[1;31mTypeError\u001b[0m: list indices must be integers or slices, not str"
     ]
    }
   ],
   "source": [
    "# Save config information\n",
    "url = \"http://api.openweathermap.org/data/2.5/weather\"\n",
    "\n",
    "params = {'APPID': apikeys.OWM_API_KEY,\n",
    "          'q': '',\n",
    "          'units': 'imperial',\n",
    "#          'format' : 'json'\n",
    "         }\n",
    "\n",
    "weather_data = []\n",
    "\n",
    "# Open the file using \"write\" mode. Specify the variable to hold the contents\n",
    "with open('weather.csv', 'w', newline='') as csvfile:\n",
    "    \n",
    "    # Initialize csv.writer\n",
    "    csvwriter = csv.writer(csvfile, delimiter=',')\n",
    "    \n",
    "    # Write the first row (column headers)\n",
    "    csvwriter.writerow(['City Number', 'City Name', 'URL'])\n",
    "    \n",
    "    # Loop through the list of cities and perform a request for data on each\n",
    "    for city in cities:\n",
    "        params['q'] = city.city_name\n",
    "        weather_response = req.get(url, params=params).json()\n",
    "    \n",
    "        # Add data to `weather_data` list    \n",
    "        weather_data.append(weather_response)\n",
    "\n",
    "        # Print out city number, city name, and url used for processing\n",
    "        #city_number = weather_data.get(\"id\")\n",
    "        query_url = url + \"?q=\" + city.city_name + \"&units=imperial\" + \"&appid=\" + apikeys.OWM_API_KEY \n",
    "        print(\" \", city.city_name, query_url)\n",
    "        \n",
    "        # Save the city number, city name, and url used for processing in a csv file.\n",
    "        csvrow = \" \", city.city_name, query_url\n",
    "        csvwriter.writerow(csvrow)\n",
    "\n",
    "# Pretty print the response\n",
    "print()\n",
    "print(\"The weather API responded with: \")\n",
    "\n",
    "#print(json.dumps(weather_data, indent=4, sort_keys=True))\n",
    "print()"
   ]
  },
  {
   "cell_type": "code",
   "execution_count": 15,
   "metadata": {},
   "outputs": [
    {
     "data": {
      "text/plain": [
       "[{'lat': -23.58, 'lon': 149.07},\n",
       " {'lat': 31.8, 'lon': 34.94},\n",
       " {'lat': -33.21, 'lon': 138.6},\n",
       " {'lat': -42.78, 'lon': 147.06},\n",
       " {'lat': -20.59, 'lon': 17.46},\n",
       " {'lat': 36.95, 'lon': 36.2},\n",
       " {'lat': -45.41, 'lon': 167.72},\n",
       " {'lat': 70.47, 'lon': -68.59},\n",
       " {'lat': 5.52, 'lon': 5.75},\n",
       " {'lat': 5.4, 'lon': 125.46},\n",
       " {'lat': 64.42, 'lon': -173.23},\n",
       " {'lat': -46.19, 'lon': 168.86},\n",
       " {'lat': -23.12, 'lon': -134.97},\n",
       " {'lat': 59.7, 'lon': 30.79},\n",
       " {'lat': -46.19, 'lon': 168.86},\n",
       " {'lat': -23.12, 'lon': -134.97},\n",
       " None,\n",
       " {'lat': 59.7, 'lon': 30.79},\n",
       " {'lat': -8.93, 'lon': 125.41},\n",
       " None]"
      ]
     },
     "execution_count": 15,
     "metadata": {},
     "output_type": "execute_result"
    }
   ],
   "source": [
    "#Save the latitude of the random cities selected.\n",
    "#lat = [data.get(\"coord\").get(\"lat\") for data in weather_data]\n",
    "coord = [data.get(\"coord\") for data in weather_data]\n",
    "coord\n"
   ]
  },
  {
   "cell_type": "code",
   "execution_count": 23,
   "metadata": {},
   "outputs": [
    {
     "data": {
      "text/plain": [
       "[None,\n",
       " None,\n",
       " None,\n",
       " None,\n",
       " None,\n",
       " None,\n",
       " None,\n",
       " None,\n",
       " None,\n",
       " None,\n",
       " None,\n",
       " None,\n",
       " None,\n",
       " None,\n",
       " None,\n",
       " None,\n",
       " None,\n",
       " None,\n",
       " None,\n",
       " None]"
      ]
     },
     "execution_count": 23,
     "metadata": {},
     "output_type": "execute_result"
    }
   ],
   "source": [
    "\n",
    "#lat = [data.get(\"lat\") if data is not None else '' for data in weather_data ]\n",
    "#lat"
   ]
  },
  {
   "cell_type": "code",
   "execution_count": 24,
   "metadata": {},
   "outputs": [
    {
     "ename": "AttributeError",
     "evalue": "'NoneType' object has no attribute 'get'",
     "output_type": "error",
     "traceback": [
      "\u001b[1;31m---------------------------------------------------------------------------\u001b[0m",
      "\u001b[1;31mAttributeError\u001b[0m                            Traceback (most recent call last)",
      "\u001b[1;32m<ipython-input-24-76ce7de89ac3>\u001b[0m in \u001b[0;36m<module>\u001b[1;34m()\u001b[0m\n\u001b[0;32m      1\u001b[0m \u001b[1;31m# Extract temperature, humidity, cloudiness, and wind data to show relationship against latitude.\u001b[0m\u001b[1;33m\u001b[0m\u001b[1;33m\u001b[0m\u001b[0m\n\u001b[1;32m----> 2\u001b[1;33m \u001b[0mtemp_data\u001b[0m \u001b[1;33m=\u001b[0m \u001b[1;33m[\u001b[0m\u001b[0mdata\u001b[0m\u001b[1;33m.\u001b[0m\u001b[0mget\u001b[0m\u001b[1;33m(\u001b[0m\u001b[1;34m\"main\"\u001b[0m\u001b[1;33m)\u001b[0m\u001b[1;33m.\u001b[0m\u001b[0mget\u001b[0m\u001b[1;33m(\u001b[0m\u001b[1;34m\"temp\"\u001b[0m\u001b[1;33m)\u001b[0m \u001b[1;32mfor\u001b[0m \u001b[0mdata\u001b[0m \u001b[1;32min\u001b[0m \u001b[0mweather_data\u001b[0m\u001b[1;33m]\u001b[0m\u001b[1;33m\u001b[0m\u001b[0m\n\u001b[0m\u001b[0;32m      3\u001b[0m \u001b[0mhumidity_data\u001b[0m \u001b[1;33m=\u001b[0m \u001b[1;33m[\u001b[0m\u001b[0mdata\u001b[0m\u001b[1;33m.\u001b[0m\u001b[0mget\u001b[0m\u001b[1;33m(\u001b[0m\u001b[1;34m\"main\"\u001b[0m\u001b[1;33m)\u001b[0m\u001b[1;33m.\u001b[0m\u001b[0mget\u001b[0m\u001b[1;33m(\u001b[0m\u001b[1;34m\"humidity\"\u001b[0m\u001b[1;33m)\u001b[0m \u001b[1;32mfor\u001b[0m \u001b[0mdata\u001b[0m \u001b[1;32min\u001b[0m \u001b[0mweather_data\u001b[0m\u001b[1;33m]\u001b[0m\u001b[1;33m\u001b[0m\u001b[0m\n\u001b[0;32m      4\u001b[0m \u001b[0mcloudiness_data\u001b[0m \u001b[1;33m=\u001b[0m \u001b[1;33m[\u001b[0m\u001b[0mdata\u001b[0m\u001b[1;33m.\u001b[0m\u001b[0mget\u001b[0m\u001b[1;33m(\u001b[0m\u001b[1;34m\"clouds\"\u001b[0m\u001b[1;33m)\u001b[0m\u001b[1;33m.\u001b[0m\u001b[0mget\u001b[0m\u001b[1;33m(\u001b[0m\u001b[1;34m\"all\"\u001b[0m\u001b[1;33m)\u001b[0m \u001b[1;32mfor\u001b[0m \u001b[0mdata\u001b[0m \u001b[1;32min\u001b[0m \u001b[0mweather_data\u001b[0m\u001b[1;33m]\u001b[0m\u001b[1;33m\u001b[0m\u001b[0m\n\u001b[0;32m      5\u001b[0m \u001b[0mspeed_data\u001b[0m \u001b[1;33m=\u001b[0m \u001b[1;33m[\u001b[0m\u001b[0mdata\u001b[0m\u001b[1;33m[\u001b[0m\u001b[1;34m'wind'\u001b[0m\u001b[1;33m]\u001b[0m\u001b[1;33m[\u001b[0m\u001b[1;34m'speed'\u001b[0m\u001b[1;33m]\u001b[0m \u001b[1;32mfor\u001b[0m \u001b[0mdata\u001b[0m \u001b[1;32min\u001b[0m \u001b[0mweather_data\u001b[0m\u001b[1;33m]\u001b[0m\u001b[1;33m\u001b[0m\u001b[0m\n",
      "\u001b[1;32m<ipython-input-24-76ce7de89ac3>\u001b[0m in \u001b[0;36m<listcomp>\u001b[1;34m(.0)\u001b[0m\n\u001b[0;32m      1\u001b[0m \u001b[1;31m# Extract temperature, humidity, cloudiness, and wind data to show relationship against latitude.\u001b[0m\u001b[1;33m\u001b[0m\u001b[1;33m\u001b[0m\u001b[0m\n\u001b[1;32m----> 2\u001b[1;33m \u001b[0mtemp_data\u001b[0m \u001b[1;33m=\u001b[0m \u001b[1;33m[\u001b[0m\u001b[0mdata\u001b[0m\u001b[1;33m.\u001b[0m\u001b[0mget\u001b[0m\u001b[1;33m(\u001b[0m\u001b[1;34m\"main\"\u001b[0m\u001b[1;33m)\u001b[0m\u001b[1;33m.\u001b[0m\u001b[0mget\u001b[0m\u001b[1;33m(\u001b[0m\u001b[1;34m\"temp\"\u001b[0m\u001b[1;33m)\u001b[0m \u001b[1;32mfor\u001b[0m \u001b[0mdata\u001b[0m \u001b[1;32min\u001b[0m \u001b[0mweather_data\u001b[0m\u001b[1;33m]\u001b[0m\u001b[1;33m\u001b[0m\u001b[0m\n\u001b[0m\u001b[0;32m      3\u001b[0m \u001b[0mhumidity_data\u001b[0m \u001b[1;33m=\u001b[0m \u001b[1;33m[\u001b[0m\u001b[0mdata\u001b[0m\u001b[1;33m.\u001b[0m\u001b[0mget\u001b[0m\u001b[1;33m(\u001b[0m\u001b[1;34m\"main\"\u001b[0m\u001b[1;33m)\u001b[0m\u001b[1;33m.\u001b[0m\u001b[0mget\u001b[0m\u001b[1;33m(\u001b[0m\u001b[1;34m\"humidity\"\u001b[0m\u001b[1;33m)\u001b[0m \u001b[1;32mfor\u001b[0m \u001b[0mdata\u001b[0m \u001b[1;32min\u001b[0m \u001b[0mweather_data\u001b[0m\u001b[1;33m]\u001b[0m\u001b[1;33m\u001b[0m\u001b[0m\n\u001b[0;32m      4\u001b[0m \u001b[0mcloudiness_data\u001b[0m \u001b[1;33m=\u001b[0m \u001b[1;33m[\u001b[0m\u001b[0mdata\u001b[0m\u001b[1;33m.\u001b[0m\u001b[0mget\u001b[0m\u001b[1;33m(\u001b[0m\u001b[1;34m\"clouds\"\u001b[0m\u001b[1;33m)\u001b[0m\u001b[1;33m.\u001b[0m\u001b[0mget\u001b[0m\u001b[1;33m(\u001b[0m\u001b[1;34m\"all\"\u001b[0m\u001b[1;33m)\u001b[0m \u001b[1;32mfor\u001b[0m \u001b[0mdata\u001b[0m \u001b[1;32min\u001b[0m \u001b[0mweather_data\u001b[0m\u001b[1;33m]\u001b[0m\u001b[1;33m\u001b[0m\u001b[0m\n\u001b[0;32m      5\u001b[0m \u001b[0mspeed_data\u001b[0m \u001b[1;33m=\u001b[0m \u001b[1;33m[\u001b[0m\u001b[0mdata\u001b[0m\u001b[1;33m[\u001b[0m\u001b[1;34m'wind'\u001b[0m\u001b[1;33m]\u001b[0m\u001b[1;33m[\u001b[0m\u001b[1;34m'speed'\u001b[0m\u001b[1;33m]\u001b[0m \u001b[1;32mfor\u001b[0m \u001b[0mdata\u001b[0m \u001b[1;32min\u001b[0m \u001b[0mweather_data\u001b[0m\u001b[1;33m]\u001b[0m\u001b[1;33m\u001b[0m\u001b[0m\n",
      "\u001b[1;31mAttributeError\u001b[0m: 'NoneType' object has no attribute 'get'"
     ]
    }
   ],
   "source": [
    "# Extract temperature, humidity, cloudiness, and wind data to show relationship against latitude.\n",
    "temp_data = [data.get(\"main\").get(\"temp\") for data in weather_data]\n",
    "humidity_data = [data.get(\"main\").get(\"humidity\") for data in weather_data]\n",
    "cloudiness_data = [data.get(\"clouds\").get(\"all\") for data in weather_data]\n",
    "speed_data = [data['wind']['speed'] for data in weather_data]"
   ]
  },
  {
   "cell_type": "code",
   "execution_count": null,
   "metadata": {},
   "outputs": [],
   "source": [
    "#Scatter plots to showcase the following relationships: #  Temperature (F) vs. Latitude and Humidity (%) vs. Latitude\n",
    "\n",
    "# Create figure\n",
    "fig = plt.figure(figsize=(20, 5))\n",
    "\n",
    "# Make plot on the left\n",
    "fig.add_subplot(1, 2, 1)\n",
    "plt.title(\"Temperature (F) vs. Latitude (3/19/2018)\")\n",
    "plt.xlabel(\"Latitude\")\n",
    "plt.ylabel(\"Temperature (F)\")\n",
    "\n",
    "# ADJUST FIGURE SIZE TO FIT ALL EXTREME POINTS\n",
    "plt.xlim(min(lat) - 5, max(lat) + 5)\n",
    "plt.ylim(min(temp_data) - 5, max(temp_data) + 5)\n",
    "\n",
    "plt.scatter(lat, temp_data, marker=\"o\", color=\"green\")\n",
    "\n",
    "#  Scatter plot to showcase Humidity (%) vs. Latitude\n",
    "\n",
    "# Make plot on the right\n",
    "fig.add_subplot(1, 2, 2)\n",
    "plt.title(\"Humidity (%) vs. Latitude (3/19/2018)\")\n",
    "plt.xlabel(\"Latitude\")\n",
    "plt.ylabel(\"Humidity (%)\")\n",
    "\n",
    "# ADJUST FIGURE SIZE TO FIT ALL EXTREME POINTS\n",
    "plt.xlim(min(lat) - 5, max(lat) + 5)\n",
    "plt.ylim(min(humidity_data) - 5, max(humidity_data) + 5)\n",
    "\n",
    "plt.scatter(lat, humidity_data, marker=\"o\", color=\"orange\")\n",
    "plt.show()"
   ]
  },
  {
   "cell_type": "code",
   "execution_count": null,
   "metadata": {},
   "outputs": [],
   "source": [
    "#  Scatter plot to showcase Cloudiness (%)vs. Latitude and Wind Speed (mph) vs. Latitude\n",
    "\n",
    "# Create figure\n",
    "fig = plt.figure(figsize=(20, 5))\n",
    "\n",
    "# Make plot on the left\n",
    "fig.add_subplot(1, 2, 1)\n",
    "plt.title(\"Cloudiness (%) vs. Latitude (3/19/2018)\")\n",
    "plt.xlabel(\"Latitude\")\n",
    "plt.ylabel(\"Cloudiness (%)\")\n",
    "\n",
    "# ADJUST FIGURE SIZE TO FIT ALL EXTREME POINTS\n",
    "plt.xlim(min(lat) - 5, max(lat) + 5)\n",
    "plt.ylim(min(cloudiness_data) - 5, max(cloudiness_data) + 5)\n",
    "\n",
    "plt.scatter(lat, cloudiness_data, marker=\"o\", color=\"blue\")\n",
    "\n",
    "#  Scatter plot to showcase  Wind Speed (mph) vs. Latitude\n",
    "\n",
    "# Make plot on the right\n",
    "fig.add_subplot(1, 2, 2)\n",
    "plt.title(\"Wind Speed (mph) vs. Latitude (3/19/2018)\")\n",
    "plt.xlabel(\"Latitude\")\n",
    "plt.ylabel(\"Wind Speed (mph)\")\n",
    "\n",
    "# ADJUST FIGURE SIZE TO FIT ALL EXTREME POINTS\n",
    "plt.xlim(min(lat) - 5, max(lat) + 5)\n",
    "plt.ylim(min(speed_data) - 5, max(speed_data) + 5)\n",
    "\n",
    "plt.scatter(lat, speed_data, marker=\"o\", color=\"teal\")\n",
    "plt.show()"
   ]
  },
  {
   "cell_type": "code",
   "execution_count": null,
   "metadata": {},
   "outputs": [],
   "source": []
  }
 ],
 "metadata": {
  "kernelspec": {
   "display_name": "Python (PythonData)",
   "language": "python",
   "name": "pythondata"
  },
  "language_info": {
   "codemirror_mode": {
    "name": "ipython",
    "version": 3
   },
   "file_extension": ".py",
   "mimetype": "text/x-python",
   "name": "python",
   "nbconvert_exporter": "python",
   "pygments_lexer": "ipython3",
   "version": "3.6.4"
  }
 },
 "nbformat": 4,
 "nbformat_minor": 2
}
