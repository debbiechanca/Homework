{
 "cells": [
  {
   "cell_type": "code",
   "execution_count": 3,
   "metadata": {},
   "outputs": [
    {
     "name": "stdout",
     "output_type": "stream",
     "text": [
      "['7']\n"
     ]
    }
   ],
   "source": [
    "    a = [ {'name':'pippo', 'age':'5'} , {'name':'pluto', 'age':'7'} ]\n",
    "    \n",
    "    data = [d['age'] for d in a if d['name']=='pluto']\n",
    "    print (data)"
   ]
  },
  {
   "cell_type": "code",
   "execution_count": 5,
   "metadata": {},
   "outputs": [
    {
     "name": "stdout",
     "output_type": "stream",
     "text": [
      "['dark clouds']\n"
     ]
    }
   ],
   "source": [
    "weather = []\n",
    "\n",
    "weather = [{'description': 'light rain',    'icon': '10n',    'id': 500,    'main': 'Rain'},\n",
    "           {'description': 'dark clouds', 'icon': '50n', 'id': 701, 'main': 'Clouds'}\n",
    "          ]\n",
    "        \n",
    "data = [d['description'] for d in weather if d['main']=='Clouds']\n",
    "print (data)"
   ]
  },
  {
   "cell_type": "code",
   "execution_count": 13,
   "metadata": {},
   "outputs": [
    {
     "name": "stdout",
     "output_type": "stream",
     "text": [
      "{'coord': {'lon': 169.85, 'lat': -46.28}, 'weather': [{'id': 804, 'main': 'Clouds', 'description': 'overcast clouds', 'icon': '04d'}], 'base': 'stations', 'main': {'temp': 17.37, 'pressure': 1005.08, 'humidity': 51, 'temp_min': 17.37, 'temp_max': 17.37, 'sea_level': 1021.62, 'grnd_level': 1005.08}, 'wind': {'speed': 9.31, 'deg': 283.004}, 'clouds': {'all': 92}, 'dt': 1521004366, 'sys': {'message': 0.0041, 'country': 'NZ', 'sunrise': 1520966041, 'sunset': 1521011088}, 'id': 2208248, 'name': 'Kaitangata', 'cod': 200}\n",
      "Clouds   overcast clouds\n"
     ]
    }
   ],
   "source": [
    "data = {}\n",
    "\n",
    "data = {\n",
    "        \"coord\": {\n",
    "            \"lon\": 169.85,\n",
    "            \"lat\": -46.28\n",
    "        },\n",
    "        \"weather\": [\n",
    "            {\n",
    "                \"id\": 804,\n",
    "                \"main\": \"Clouds\",\n",
    "                \"description\": \"overcast clouds\",\n",
    "                \"icon\": \"04d\"\n",
    "            }\n",
    "        ],\n",
    "        \"base\": \"stations\",\n",
    "        \"main\": {\n",
    "            \"temp\": 17.37,\n",
    "            \"pressure\": 1005.08,\n",
    "            \"humidity\": 51,\n",
    "            \"temp_min\": 17.37,\n",
    "            \"temp_max\": 17.37,\n",
    "            \"sea_level\": 1021.62,\n",
    "            \"grnd_level\": 1005.08\n",
    "        },\n",
    "        \"wind\": {\n",
    "            \"speed\": 9.31,\n",
    "            \"deg\": 283.004\n",
    "        },\n",
    "        \"clouds\": {\n",
    "            \"all\": 92\n",
    "        },\n",
    "        \"dt\": 1521004366,\n",
    "        \"sys\": {\n",
    "            \"message\": 0.0041,\n",
    "            \"country\": \"NZ\",\n",
    "            \"sunrise\": 1520966041,\n",
    "            \"sunset\": 1521011088\n",
    "        },\n",
    "        \"id\": 2208248,\n",
    "        \"name\": \"Kaitangata\",\n",
    "        \"cod\": 200\n",
    "    }\n",
    "\n",
    "print (data)\n",
    "\n",
    "weather = data['weather'][0]['main']\n",
    "description = data['weather'][0]['description']\n",
    "print (weather, ' ', description)\n",
    "\n",
    "\n",
    "#'weather': [{'id': 804, 'main': 'Clouds', 'description': 'overcast clouds', 'icon': '04d'}]"
   ]
  },
  {
   "cell_type": "code",
   "execution_count": null,
   "metadata": {},
   "outputs": [],
   "source": [
    "\n",
    "        \"base\": \"stations\",\n",
    "        \"main\": {\n",
    "            \"temp\": -3.44,\n",
    "            \"pressure\": 1007.19,\n",
    "            \"humidity\": 71,\n",
    "            \"temp_min\": -3.44,\n",
    "            \"temp_max\": -3.44,\n",
    "            \"sea_level\": 1029,\n",
    "            \"grnd_level\": 1007.19\n",
    "        },\n",
    "        \"wind\": {\n",
    "            \"speed\": 2.96,\n",
    "            \"deg\": 157.504\n",
    "        },\n",
    "        \"clouds\": {\n",
    "            \"all\": 36\n",
    "        },\n",
    "        \"dt\": 1521004364,\n",
    "        \"sys\": {\n",
    "            \"message\": 0.0058,\n",
    "            \"country\": \"RU\",\n",
    "            \"sunrise\": 1520975411,\n",
    "            \"sunset\": 1521017765\n",
    "        },\n",
    "        \"id\": 2016307,\n",
    "        \"name\": \"Solnechnyy\",\n",
    "        \"cod\": 200\n",
    "    }"
   ]
  }
 ],
 "metadata": {
  "kernelspec": {
   "display_name": "Python (PythonData)",
   "language": "python",
   "name": "pythondata"
  },
  "language_info": {
   "codemirror_mode": {
    "name": "ipython",
    "version": 3
   },
   "file_extension": ".py",
   "mimetype": "text/x-python",
   "name": "python",
   "nbconvert_exporter": "python",
   "pygments_lexer": "ipython3",
   "version": "3.6.4"
  }
 },
 "nbformat": 4,
 "nbformat_minor": 2
}
