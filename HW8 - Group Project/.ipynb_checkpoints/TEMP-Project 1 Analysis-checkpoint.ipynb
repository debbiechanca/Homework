{
 "cells": [
  {
   "cell_type": "code",
   "execution_count": 7,
   "metadata": {},
   "outputs": [],
   "source": [
    "# Import modules\n",
    "import pandas as pd\n",
    "\n",
    "import matplotlib.pyplot as plt\n",
    "import numpy as np"
   ]
  },
  {
   "cell_type": "code",
   "execution_count": 8,
   "metadata": {},
   "outputs": [],
   "source": [
    "# Open sfdata.csv \n",
    "# Save path to data set in a variable\n",
    "data_file = \"sfdata.csv\""
   ]
  },
  {
   "cell_type": "code",
   "execution_count": 9,
   "metadata": {},
   "outputs": [
    {
     "data": {
      "text/html": [
       "<div>\n",
       "<style scoped>\n",
       "    .dataframe tbody tr th:only-of-type {\n",
       "        vertical-align: middle;\n",
       "    }\n",
       "\n",
       "    .dataframe tbody tr th {\n",
       "        vertical-align: top;\n",
       "    }\n",
       "\n",
       "    .dataframe thead th {\n",
       "        text-align: right;\n",
       "    }\n",
       "</style>\n",
       "<table border=\"1\" class=\"dataframe\">\n",
       "  <thead>\n",
       "    <tr style=\"text-align: right;\">\n",
       "      <th></th>\n",
       "      <th>year</th>\n",
       "      <th>zipcode</th>\n",
       "      <th>dage</th>\n",
       "      <th>dethnic</th>\n",
       "      <th>dlivedsf</th>\n",
       "      <th>deduc</th>\n",
       "      <th>dincome</th>\n",
       "      <th>movesf</th>\n",
       "      <th>ownrenhm</th>\n",
       "      <th>City</th>\n",
       "      <th>State</th>\n",
       "      <th>AvePrice</th>\n",
       "      <th>Lat</th>\n",
       "      <th>Lng</th>\n",
       "      <th>income_desc</th>\n",
       "    </tr>\n",
       "  </thead>\n",
       "  <tbody>\n",
       "    <tr>\n",
       "      <th>0</th>\n",
       "      <td>2017</td>\n",
       "      <td>94109</td>\n",
       "      <td>7</td>\n",
       "      <td>4</td>\n",
       "      <td>6</td>\n",
       "      <td>3</td>\n",
       "      <td>2</td>\n",
       "      <td>4</td>\n",
       "      <td>2</td>\n",
       "      <td>San Francisco</td>\n",
       "      <td>CA</td>\n",
       "      <td>3.942708e+06</td>\n",
       "      <td>37.792979</td>\n",
       "      <td>-122.421242</td>\n",
       "      <td>$10,001 to $25k</td>\n",
       "    </tr>\n",
       "    <tr>\n",
       "      <th>1</th>\n",
       "      <td>2017</td>\n",
       "      <td>94109</td>\n",
       "      <td>2</td>\n",
       "      <td>4</td>\n",
       "      <td>3</td>\n",
       "      <td>4</td>\n",
       "      <td>6</td>\n",
       "      <td>2</td>\n",
       "      <td>2</td>\n",
       "      <td>San Francisco</td>\n",
       "      <td>CA</td>\n",
       "      <td>3.942708e+06</td>\n",
       "      <td>37.792979</td>\n",
       "      <td>-122.421242</td>\n",
       "      <td>$100,001 to $200k</td>\n",
       "    </tr>\n",
       "    <tr>\n",
       "      <th>2</th>\n",
       "      <td>2017</td>\n",
       "      <td>94109</td>\n",
       "      <td>3</td>\n",
       "      <td>4</td>\n",
       "      <td>2</td>\n",
       "      <td>4</td>\n",
       "      <td>6</td>\n",
       "      <td>2</td>\n",
       "      <td>2</td>\n",
       "      <td>San Francisco</td>\n",
       "      <td>CA</td>\n",
       "      <td>3.942708e+06</td>\n",
       "      <td>37.792979</td>\n",
       "      <td>-122.421242</td>\n",
       "      <td>$100,001 to $200k</td>\n",
       "    </tr>\n",
       "    <tr>\n",
       "      <th>3</th>\n",
       "      <td>2017</td>\n",
       "      <td>94109</td>\n",
       "      <td>2</td>\n",
       "      <td>2</td>\n",
       "      <td>2</td>\n",
       "      <td>4</td>\n",
       "      <td>3</td>\n",
       "      <td>2</td>\n",
       "      <td>2</td>\n",
       "      <td>San Francisco</td>\n",
       "      <td>CA</td>\n",
       "      <td>3.942708e+06</td>\n",
       "      <td>37.792979</td>\n",
       "      <td>-122.421242</td>\n",
       "      <td>$25,001 to $35k</td>\n",
       "    </tr>\n",
       "    <tr>\n",
       "      <th>4</th>\n",
       "      <td>2017</td>\n",
       "      <td>94109</td>\n",
       "      <td>5</td>\n",
       "      <td>4</td>\n",
       "      <td>1</td>\n",
       "      <td>4</td>\n",
       "      <td>8</td>\n",
       "      <td>1</td>\n",
       "      <td>3</td>\n",
       "      <td>San Francisco</td>\n",
       "      <td>CA</td>\n",
       "      <td>3.942708e+06</td>\n",
       "      <td>37.792979</td>\n",
       "      <td>-122.421242</td>\n",
       "      <td>Refused</td>\n",
       "    </tr>\n",
       "  </tbody>\n",
       "</table>\n",
       "</div>"
      ],
      "text/plain": [
       "   year  zipcode  dage  dethnic  dlivedsf  deduc  dincome  movesf  ownrenhm  \\\n",
       "0  2017    94109     7        4         6      3        2       4         2   \n",
       "1  2017    94109     2        4         3      4        6       2         2   \n",
       "2  2017    94109     3        4         2      4        6       2         2   \n",
       "3  2017    94109     2        2         2      4        3       2         2   \n",
       "4  2017    94109     5        4         1      4        8       1         3   \n",
       "\n",
       "            City State      AvePrice        Lat         Lng        income_desc  \n",
       "0  San Francisco    CA  3.942708e+06  37.792979 -122.421242    $10,001 to $25k  \n",
       "1  San Francisco    CA  3.942708e+06  37.792979 -122.421242  $100,001 to $200k  \n",
       "2  San Francisco    CA  3.942708e+06  37.792979 -122.421242  $100,001 to $200k  \n",
       "3  San Francisco    CA  3.942708e+06  37.792979 -122.421242    $25,001 to $35k  \n",
       "4  San Francisco    CA  3.942708e+06  37.792979 -122.421242            Refused  "
      ]
     },
     "execution_count": 9,
     "metadata": {},
     "output_type": "execute_result"
    }
   ],
   "source": [
    "# Use Pandas to read sfgov.org data and zillow medium single family home price\n",
    "sf_df = pd.read_csv(data_file)\n",
    "sf_df.head()"
   ]
  },
  {
   "cell_type": "code",
   "execution_count": null,
   "metadata": {},
   "outputs": [],
   "source": []
  },
  {
   "cell_type": "code",
   "execution_count": 10,
   "metadata": {},
   "outputs": [
    {
     "data": {
      "text/html": [
       "<div>\n",
       "<style scoped>\n",
       "    .dataframe tbody tr th:only-of-type {\n",
       "        vertical-align: middle;\n",
       "    }\n",
       "\n",
       "    .dataframe tbody tr th {\n",
       "        vertical-align: top;\n",
       "    }\n",
       "\n",
       "    .dataframe thead th {\n",
       "        text-align: right;\n",
       "    }\n",
       "</style>\n",
       "<table border=\"1\" class=\"dataframe\">\n",
       "  <thead>\n",
       "    <tr style=\"text-align: right;\">\n",
       "      <th></th>\n",
       "      <th>year</th>\n",
       "      <th>zipcode</th>\n",
       "      <th>dage</th>\n",
       "      <th>dethnic</th>\n",
       "      <th>dlivedsf</th>\n",
       "      <th>deduc</th>\n",
       "      <th>dincome</th>\n",
       "      <th>movesf</th>\n",
       "      <th>ownrenhm</th>\n",
       "      <th>City</th>\n",
       "      <th>State</th>\n",
       "      <th>AvePrice</th>\n",
       "      <th>Lat</th>\n",
       "      <th>Lng</th>\n",
       "      <th>income_desc</th>\n",
       "    </tr>\n",
       "  </thead>\n",
       "  <tbody>\n",
       "    <tr>\n",
       "      <th>4</th>\n",
       "      <td>2017</td>\n",
       "      <td>94109</td>\n",
       "      <td>5</td>\n",
       "      <td>4</td>\n",
       "      <td>1</td>\n",
       "      <td>4</td>\n",
       "      <td>8</td>\n",
       "      <td>1</td>\n",
       "      <td>3</td>\n",
       "      <td>San Francisco</td>\n",
       "      <td>CA</td>\n",
       "      <td>3.942708e+06</td>\n",
       "      <td>37.792979</td>\n",
       "      <td>-122.421242</td>\n",
       "      <td>Refused</td>\n",
       "    </tr>\n",
       "    <tr>\n",
       "      <th>7</th>\n",
       "      <td>2017</td>\n",
       "      <td>94109</td>\n",
       "      <td>2</td>\n",
       "      <td>2</td>\n",
       "      <td>4</td>\n",
       "      <td>4</td>\n",
       "      <td>5</td>\n",
       "      <td>1</td>\n",
       "      <td>2</td>\n",
       "      <td>San Francisco</td>\n",
       "      <td>CA</td>\n",
       "      <td>3.942708e+06</td>\n",
       "      <td>37.792979</td>\n",
       "      <td>-122.421242</td>\n",
       "      <td>$50,001 to $100k</td>\n",
       "    </tr>\n",
       "    <tr>\n",
       "      <th>11</th>\n",
       "      <td>2017</td>\n",
       "      <td>94109</td>\n",
       "      <td>3</td>\n",
       "      <td>4</td>\n",
       "      <td>3</td>\n",
       "      <td>4</td>\n",
       "      <td>7</td>\n",
       "      <td>1</td>\n",
       "      <td>2</td>\n",
       "      <td>San Francisco</td>\n",
       "      <td>CA</td>\n",
       "      <td>3.942708e+06</td>\n",
       "      <td>37.792979</td>\n",
       "      <td>-122.421242</td>\n",
       "      <td>over $200k</td>\n",
       "    </tr>\n",
       "    <tr>\n",
       "      <th>14</th>\n",
       "      <td>2017</td>\n",
       "      <td>94109</td>\n",
       "      <td>3</td>\n",
       "      <td>2</td>\n",
       "      <td>3</td>\n",
       "      <td>4</td>\n",
       "      <td>6</td>\n",
       "      <td>1</td>\n",
       "      <td>2</td>\n",
       "      <td>San Francisco</td>\n",
       "      <td>CA</td>\n",
       "      <td>3.942708e+06</td>\n",
       "      <td>37.792979</td>\n",
       "      <td>-122.421242</td>\n",
       "      <td>$100,001 to $200k</td>\n",
       "    </tr>\n",
       "    <tr>\n",
       "      <th>25</th>\n",
       "      <td>2017</td>\n",
       "      <td>94109</td>\n",
       "      <td>1</td>\n",
       "      <td>5</td>\n",
       "      <td>2</td>\n",
       "      <td>2</td>\n",
       "      <td>2</td>\n",
       "      <td>1</td>\n",
       "      <td>2</td>\n",
       "      <td>San Francisco</td>\n",
       "      <td>CA</td>\n",
       "      <td>3.942708e+06</td>\n",
       "      <td>37.792979</td>\n",
       "      <td>-122.421242</td>\n",
       "      <td>$10,001 to $25k</td>\n",
       "    </tr>\n",
       "  </tbody>\n",
       "</table>\n",
       "</div>"
      ],
      "text/plain": [
       "    year  zipcode  dage  dethnic  dlivedsf  deduc  dincome  movesf  ownrenhm  \\\n",
       "4   2017    94109     5        4         1      4        8       1         3   \n",
       "7   2017    94109     2        2         4      4        5       1         2   \n",
       "11  2017    94109     3        4         3      4        7       1         2   \n",
       "14  2017    94109     3        2         3      4        6       1         2   \n",
       "25  2017    94109     1        5         2      2        2       1         2   \n",
       "\n",
       "             City State      AvePrice        Lat         Lng  \\\n",
       "4   San Francisco    CA  3.942708e+06  37.792979 -122.421242   \n",
       "7   San Francisco    CA  3.942708e+06  37.792979 -122.421242   \n",
       "11  San Francisco    CA  3.942708e+06  37.792979 -122.421242   \n",
       "14  San Francisco    CA  3.942708e+06  37.792979 -122.421242   \n",
       "25  San Francisco    CA  3.942708e+06  37.792979 -122.421242   \n",
       "\n",
       "          income_desc  \n",
       "4             Refused  \n",
       "7    $50,001 to $100k  \n",
       "11         over $200k  \n",
       "14  $100,001 to $200k  \n",
       "25    $10,001 to $25k  "
      ]
     },
     "execution_count": 10,
     "metadata": {},
     "output_type": "execute_result"
    }
   ],
   "source": [
    "very_likely = sf_df[sf_df['movesf']== 1]\n",
    "very_likely.head()"
   ]
  },
  {
   "cell_type": "code",
   "execution_count": 79,
   "metadata": {},
   "outputs": [
    {
     "name": "stdout",
     "output_type": "stream",
     "text": [
      "$50,001 to $100k     46\n",
      "$100,001 to $200k    43\n",
      "over $200k           29\n",
      "Refused              28\n",
      "$35,001 to $50k      13\n",
      "$25,001 to $35k      13\n",
      "$10,001 to $25k      13\n",
      "$10k or less         10\n",
      "Name: income_desc, dtype: int64\n",
      "5    46\n",
      "6    43\n",
      "7    29\n",
      "8    28\n",
      "4    13\n",
      "3    13\n",
      "2    13\n",
      "1    10\n",
      "Name: dincome, dtype: int64\n"
     ]
    }
   ],
   "source": [
    "income_moveout = very_likely['income_desc'].value_counts()\n",
    "print (income_moveout)\n",
    "\n",
    "dincome_count = very_likely['dincome'].value_counts()\n",
    "print (dincome_count)"
   ]
  },
  {
   "cell_type": "code",
   "execution_count": 12,
   "metadata": {},
   "outputs": [
    {
     "data": {
      "text/html": [
       "<div>\n",
       "<style scoped>\n",
       "    .dataframe tbody tr th:only-of-type {\n",
       "        vertical-align: middle;\n",
       "    }\n",
       "\n",
       "    .dataframe tbody tr th {\n",
       "        vertical-align: top;\n",
       "    }\n",
       "\n",
       "    .dataframe thead th {\n",
       "        text-align: right;\n",
       "    }\n",
       "</style>\n",
       "<table border=\"1\" class=\"dataframe\">\n",
       "  <thead>\n",
       "    <tr style=\"text-align: right;\">\n",
       "      <th></th>\n",
       "      <th>income_count</th>\n",
       "    </tr>\n",
       "    <tr>\n",
       "      <th>income_index</th>\n",
       "      <th></th>\n",
       "    </tr>\n",
       "  </thead>\n",
       "  <tbody>\n",
       "    <tr>\n",
       "      <th>5</th>\n",
       "      <td>46</td>\n",
       "    </tr>\n",
       "    <tr>\n",
       "      <th>6</th>\n",
       "      <td>43</td>\n",
       "    </tr>\n",
       "    <tr>\n",
       "      <th>7</th>\n",
       "      <td>29</td>\n",
       "    </tr>\n",
       "    <tr>\n",
       "      <th>8</th>\n",
       "      <td>28</td>\n",
       "    </tr>\n",
       "    <tr>\n",
       "      <th>4</th>\n",
       "      <td>13</td>\n",
       "    </tr>\n",
       "  </tbody>\n",
       "</table>\n",
       "</div>"
      ],
      "text/plain": [
       "              income_count\n",
       "income_index              \n",
       "5                       46\n",
       "6                       43\n",
       "7                       29\n",
       "8                       28\n",
       "4                       13"
      ]
     },
     "execution_count": 12,
     "metadata": {},
     "output_type": "execute_result"
    }
   ],
   "source": [
    "income_pd = pd.DataFrame(income_moveout)\n",
    "income_pd.index.names = ['income_index']\n",
    "income_pd = income_pd.rename(columns={'dincome': 'income_count'})\n",
    "income_pd.head()"
   ]
  },
  {
   "cell_type": "code",
   "execution_count": 13,
   "metadata": {},
   "outputs": [
    {
     "name": "stdout",
     "output_type": "stream",
     "text": [
      "Int64Index([5, 6, 7, 8, 4, 3, 2, 1], dtype='int64')\n",
      "   income_count  income_index\n",
      "5            46             5\n",
      "6            43             6\n",
      "7            29             7\n",
      "8            28             8\n",
      "4            13             4\n",
      "3            13             3\n",
      "2            13             2\n",
      "1            10             1\n"
     ]
    }
   ],
   "source": [
    "income_moveout = pd.DataFrame(very_likely['dincome'].value_counts())\n",
    "#income_moveout.index.names = ['income_index']\n",
    "income_moveout = income_moveout.rename(columns={'dincome': 'income_count'})\n",
    "\n",
    "#print (income_moveout.income_index)\n",
    "iidx =income_moveout.index\n",
    "print (iidx)\n",
    "income_moveout[\"income_index\"] = income_moveout.index\n",
    "print (income_moveout)"
   ]
  },
  {
   "cell_type": "code",
   "execution_count": 14,
   "metadata": {},
   "outputs": [
    {
     "data": {
      "text/html": [
       "<div>\n",
       "<style scoped>\n",
       "    .dataframe tbody tr th:only-of-type {\n",
       "        vertical-align: middle;\n",
       "    }\n",
       "\n",
       "    .dataframe tbody tr th {\n",
       "        vertical-align: top;\n",
       "    }\n",
       "\n",
       "    .dataframe thead th {\n",
       "        text-align: right;\n",
       "    }\n",
       "</style>\n",
       "<table border=\"1\" class=\"dataframe\">\n",
       "  <thead>\n",
       "    <tr style=\"text-align: right;\">\n",
       "      <th></th>\n",
       "      <th>income_desc</th>\n",
       "      <th>income_index</th>\n",
       "    </tr>\n",
       "  </thead>\n",
       "  <tbody>\n",
       "    <tr>\n",
       "      <th>0</th>\n",
       "      <td>$10k or less</td>\n",
       "      <td>1</td>\n",
       "    </tr>\n",
       "    <tr>\n",
       "      <th>1</th>\n",
       "      <td>$10,001 to $25k</td>\n",
       "      <td>2</td>\n",
       "    </tr>\n",
       "    <tr>\n",
       "      <th>2</th>\n",
       "      <td>$25,001 to $35k</td>\n",
       "      <td>3</td>\n",
       "    </tr>\n",
       "    <tr>\n",
       "      <th>3</th>\n",
       "      <td>$35,001 to $50k</td>\n",
       "      <td>4</td>\n",
       "    </tr>\n",
       "    <tr>\n",
       "      <th>4</th>\n",
       "      <td>$50,001 to $100k</td>\n",
       "      <td>5</td>\n",
       "    </tr>\n",
       "    <tr>\n",
       "      <th>5</th>\n",
       "      <td>$100,001 to $200k</td>\n",
       "      <td>6</td>\n",
       "    </tr>\n",
       "    <tr>\n",
       "      <th>6</th>\n",
       "      <td>over $200k</td>\n",
       "      <td>7</td>\n",
       "    </tr>\n",
       "    <tr>\n",
       "      <th>7</th>\n",
       "      <td>Refused</td>\n",
       "      <td>8</td>\n",
       "    </tr>\n",
       "  </tbody>\n",
       "</table>\n",
       "</div>"
      ],
      "text/plain": [
       "         income_desc  income_index\n",
       "0       $10k or less             1\n",
       "1    $10,001 to $25k             2\n",
       "2    $25,001 to $35k             3\n",
       "3    $35,001 to $50k             4\n",
       "4   $50,001 to $100k             5\n",
       "5  $100,001 to $200k             6\n",
       "6         over $200k             7\n",
       "7            Refused             8"
      ]
     },
     "execution_count": 14,
     "metadata": {},
     "output_type": "execute_result"
    }
   ],
   "source": [
    "income_df = pd.DataFrame({'income_index' : [1,2,3,4,5,6,7,8], 'income_desc': [ \"$10k or less\", \"$10,001 to $25k\", \"$25,001 to $35k\", \"$35,001 to $50k\", \"$50,001 to $100k\", \"$100,001 to $200k\", \"over $200k\", \"Refused\"]})\n",
    "\n",
    "income_df"
   ]
  },
  {
   "cell_type": "code",
   "execution_count": 16,
   "metadata": {},
   "outputs": [
    {
     "data": {
      "text/html": [
       "<div>\n",
       "<style scoped>\n",
       "    .dataframe tbody tr th:only-of-type {\n",
       "        vertical-align: middle;\n",
       "    }\n",
       "\n",
       "    .dataframe tbody tr th {\n",
       "        vertical-align: top;\n",
       "    }\n",
       "\n",
       "    .dataframe thead th {\n",
       "        text-align: right;\n",
       "    }\n",
       "</style>\n",
       "<table border=\"1\" class=\"dataframe\">\n",
       "  <thead>\n",
       "    <tr style=\"text-align: right;\">\n",
       "      <th></th>\n",
       "      <th>income_desc</th>\n",
       "      <th>income_index</th>\n",
       "      <th>income_count</th>\n",
       "    </tr>\n",
       "  </thead>\n",
       "  <tbody>\n",
       "    <tr>\n",
       "      <th>0</th>\n",
       "      <td>$10k or less</td>\n",
       "      <td>1</td>\n",
       "      <td>10</td>\n",
       "    </tr>\n",
       "    <tr>\n",
       "      <th>1</th>\n",
       "      <td>$10,001 to $25k</td>\n",
       "      <td>2</td>\n",
       "      <td>13</td>\n",
       "    </tr>\n",
       "    <tr>\n",
       "      <th>2</th>\n",
       "      <td>$25,001 to $35k</td>\n",
       "      <td>3</td>\n",
       "      <td>13</td>\n",
       "    </tr>\n",
       "    <tr>\n",
       "      <th>3</th>\n",
       "      <td>$35,001 to $50k</td>\n",
       "      <td>4</td>\n",
       "      <td>13</td>\n",
       "    </tr>\n",
       "    <tr>\n",
       "      <th>4</th>\n",
       "      <td>$50,001 to $100k</td>\n",
       "      <td>5</td>\n",
       "      <td>46</td>\n",
       "    </tr>\n",
       "  </tbody>\n",
       "</table>\n",
       "</div>"
      ],
      "text/plain": [
       "        income_desc  income_index  income_count\n",
       "0      $10k or less             1            10\n",
       "1   $10,001 to $25k             2            13\n",
       "2   $25,001 to $35k             3            13\n",
       "3   $35,001 to $50k             4            13\n",
       "4  $50,001 to $100k             5            46"
      ]
     },
     "execution_count": 16,
     "metadata": {},
     "output_type": "execute_result"
    }
   ],
   "source": [
    "income_pd = pd.merge(income_df, income_moveout, on='income_index')\n",
    "income_pd.head()"
   ]
  },
  {
   "cell_type": "code",
   "execution_count": 22,
   "metadata": {},
   "outputs": [
    {
     "data": {
      "text/plain": [
       "(0, 56)"
      ]
     },
     "execution_count": 22,
     "metadata": {},
     "output_type": "execute_result"
    },
    {
     "data": {
      "image/png": "[encoded data removed]",
      "text/plain": [
       "<matplotlib.figure.Figure at 0x199f3d74b00>"
      ]
     },
     "metadata": {},
     "output_type": "display_data"
    }
   ],
   "source": [
    "x_axis =np.arange(len(income_pd['income_count']))\n",
    "plt.bar(x_axis, income_pd['income_count'], color='g', alpha=0.5)\n",
    "plt.title('Most Likely to Move Out of SF by Income Level')\n",
    "plt.xticks(x_axis, income_pd['income_desc'], rotation='vertical')\n",
    "# Give our chart some labels and a tile\n",
    "plt.title(\"Income Level Very Likely to move out of San Francisco\")\n",
    "plt.xlabel(\"Income Level\")\n",
    "plt.ylabel(\"Very Likely to move out of San Francisco\")\n",
    "plt.ylim(0, max(income_pd['income_count'])+10)"
   ]
  },
  {
   "cell_type": "code",
   "execution_count": 10,
   "metadata": {},
   "outputs": [
    {
     "name": "stdout",
     "output_type": "stream",
     "text": [
      "4     81\n",
      "5     35\n",
      "2     30\n",
      "1     15\n",
      "10    13\n",
      "9     10\n",
      "3      6\n",
      "7      4\n",
      "8      1\n",
      "Name: dethnic, dtype: int64\n"
     ]
    }
   ],
   "source": [
    "ethnic_moveout = very_likely['dethnic'].value_counts()\n",
    "print (ethnic_moveout)"
   ]
  },
  {
   "cell_type": "code",
   "execution_count": 11,
   "metadata": {},
   "outputs": [
    {
     "name": "stdout",
     "output_type": "stream",
     "text": [
      "4    113\n",
      "3     43\n",
      "2     25\n",
      "1     13\n",
      "5      1\n",
      "Name: deduc, dtype: int64\n"
     ]
    }
   ],
   "source": [
    "education_moveout = very_likely['deduc'].value_counts()\n",
    "print (education_moveout)"
   ]
  },
  {
   "cell_type": "code",
   "execution_count": 12,
   "metadata": {},
   "outputs": [
    {
     "name": "stdout",
     "output_type": "stream",
     "text": [
      "2    136\n",
      "1     54\n",
      "3      2\n",
      "6      1\n",
      "5      1\n",
      "4      1\n",
      "Name: ownrenhm, dtype: int64\n"
     ]
    }
   ],
   "source": [
    "ownrent_moveout = very_likely['ownrenhm'].value_counts()\n",
    "print (ownrent_moveout)"
   ]
  },
  {
   "cell_type": "code",
   "execution_count": 13,
   "metadata": {},
   "outputs": [
    {
     "name": "stdout",
     "output_type": "stream",
     "text": [
      "4    54\n",
      "6    49\n",
      "3    30\n",
      "5    29\n",
      "2    17\n",
      "1    16\n",
      "Name: dlivedsf, dtype: int64\n"
     ]
    }
   ],
   "source": [
    "livedsf_moveout = very_likely['dlivedsf'].value_counts()\n",
    "print (livedsf_moveout)"
   ]
  },
  {
   "cell_type": "code",
   "execution_count": 14,
   "metadata": {},
   "outputs": [
    {
     "name": "stdout",
     "output_type": "stream",
     "text": [
      "94110    20\n",
      "94112    19\n",
      "94109    16\n",
      "94124    14\n",
      "94103    13\n",
      "94118    12\n",
      "94122    11\n",
      "94132    11\n",
      "94117    10\n",
      "94115    10\n",
      "94114    10\n",
      "94123     9\n",
      "94116     8\n",
      "94131     7\n",
      "94134     7\n",
      "94121     5\n",
      "94127     5\n",
      "94107     5\n",
      "94133     3\n",
      "Name: zipcode, dtype: int64\n"
     ]
    }
   ],
   "source": [
    "zipcode_moveout = very_likely['zipcode'].value_counts()\n",
    "print (zipcode_moveout)"
   ]
  },
  {
   "cell_type": "code",
   "execution_count": 15,
   "metadata": {},
   "outputs": [
    {
     "data": {
      "text/plain": [
       "(0, 91)"
      ]
     },
     "execution_count": 15,
     "metadata": {},
     "output_type": "execute_result"
    },
    {
     "data": {
      "image/png": "[encoded data removed]",
      "text/plain": [
       "<matplotlib.figure.Figure at 0x19c761ff940>"
      ]
     },
     "metadata": {},
     "output_type": "display_data"
    }
   ],
   "source": [
    "plt.figure(figsize=(15,10))\n",
    "\n",
    "plt.subplot(2,2,1)\n",
    "x_axis =np.arange(len(age_group_moveout))\n",
    "plt.bar(x_axis, age_group_moveout, color='b', alpha=0.5)\n",
    "plt.title('Most Likely to Move Out of SF by Age Group')\n",
    "plt.xticks(tick_locations, [\"35-44yo\", \"25-34yo\", \"45-54yo\", \"18-24yo\", \"65+yo\", \"60-64yo\", \"55-59yo\", \"No answer\"], rotation='vertical')\n",
    "# Give our chart some labels and a tile\n",
    "plt.title(\"Age Groups Very Likely to move out of San Francisco\")\n",
    "plt.xlabel(\"Age Groups\")\n",
    "plt.ylabel(\"Very Likely to move out of San Francisco\")\n",
    "plt.ylim(0, max(age_group_moveout)+10)\n",
    "\n",
    "plt.subplot(2,2,2)\n",
    "x_axis =np.arange(len(ethnic_moveout))\n",
    "plt.bar(x_axis, ethnic_moveout, color='m', alpha=0.5)\n",
    "plt.title('Most Likely to Move Out of SF by Ethnicity')\n",
    "#plt.xticks(tick_locations, [\"35-44yo\", \"25-34yo\", \"45-54yo\", \"18-24yo\", \"65+yo\", \"60-64yo\", \"55-59yo\", \"No answer\"], rotation='vertical')\n",
    "# Give our chart some labels and a tile\n",
    "plt.title(\"Ethnicity Very Likely to move out of San Francisco\")\n",
    "plt.xlabel(\"Ethnicity\")\n",
    "plt.ylabel(\"Very Likely to move out of San Francisco\")\n",
    "plt.ylim(0, max(ethnic_moveout)+10)"
   ]
  },
  {
   "cell_type": "code",
   "execution_count": 16,
   "metadata": {},
   "outputs": [
    {
     "data": {
      "text/plain": [
       "(0, 56)"
      ]
     },
     "execution_count": 16,
     "metadata": {},
     "output_type": "execute_result"
    },
    {
     "data": {
      "image/png": "[encoded data removed]",
      "text/plain": [
       "<matplotlib.figure.Figure at 0x19c764a04a8>"
      ]
     },
     "metadata": {},
     "output_type": "display_data"
    }
   ],
   "source": [
    "plt.figure(figsize=(15,10))\n",
    "\n",
    "plt.subplot(2,2,1)\n",
    "x_axis =np.arange(len(education_moveout))\n",
    "plt.bar(x_axis, education_moveout, color='y', alpha=0.5)\n",
    "plt.title('Most Likely to Move Out of SF by Ethnicity')\n",
    "#plt.xticks(tick_locations, [\"35-44yo\", \"25-34yo\", \"45-54yo\", \"18-24yo\", \"65+yo\", \"60-64yo\", \"55-59yo\", \"No answer\"], rotation='vertical')\n",
    "# Give our chart some labels and a tile\n",
    "plt.title(\"Education Level Very Likely to move out of San Francisco\")\n",
    "plt.xlabel(\"Education Level\")\n",
    "plt.ylabel(\"Very Likely to move out of San Francisco\")\n",
    "plt.ylim(0, max(education_moveout)+10)\n",
    "\n",
    "plt.subplot(2,2,2)\n",
    "x_axis =np.arange(len(income_moveout))\n",
    "plt.bar(x_axis, income_moveout, color='g', alpha=0.5)\n",
    "plt.title('Most Likely to Move Out of SF by Ethnicity')\n",
    "#plt.xticks(tick_locations, [\"35-44yo\", \"25-34yo\", \"45-54yo\", \"18-24yo\", \"65+yo\", \"60-64yo\", \"55-59yo\", \"No answer\"], rotation='vertical')\n",
    "# Give our chart some labels and a tile\n",
    "plt.title(\"Income Level Very Likely to move out of San Francisco\")\n",
    "plt.xlabel(\"Income Level\")\n",
    "plt.ylabel(\"Very Likely to move out of San Francisco\")\n",
    "plt.ylim(0, max(income_moveout)+10)"
   ]
  },
  {
   "cell_type": "code",
   "execution_count": 17,
   "metadata": {},
   "outputs": [
    {
     "data": {
      "text/plain": [
       "(0, 64)"
      ]
     },
     "execution_count": 17,
     "metadata": {},
     "output_type": "execute_result"
    },
    {
     "data": {
      "image/png": "[encoded data removed]",
      "text/plain": [
       "<matplotlib.figure.Figure at 0x19c761546a0>"
      ]
     },
     "metadata": {},
     "output_type": "display_data"
    }
   ],
   "source": [
    "plt.figure(figsize=(15,5))\n",
    "\n",
    "x_axis =np.arange(len(livedsf_moveout))\n",
    "plt.bar(x_axis, livedsf_moveout, color='r', alpha=0.7)\n",
    "plt.title('Most Likely to Move Out of SF by Ethnicity')\n",
    "#plt.xticks(tick_locations, [\"35-44yo\", \"25-34yo\", \"45-54yo\", \"18-24yo\", \"65+yo\", \"60-64yo\", \"55-59yo\", \"No answer\"], rotation='vertical')\n",
    "# Give our chart some labels and a tile\n",
    "plt.title(\"Length of Time Lived in San Francisco\")\n",
    "plt.xlabel(\"Length of Time\")\n",
    "plt.ylabel(\"Very Likely to move out of San Francisco\")\n",
    "plt.ylim(0, max(livedsf_moveout)+10)"
   ]
  },
  {
   "cell_type": "code",
   "execution_count": 71,
   "metadata": {},
   "outputs": [
    {
     "name": "stdout",
     "output_type": "stream",
     "text": [
      "[1, 2, 3, 4, 5, 6, 7, 8]\n",
      "dage\n",
      "1    5.067227\n",
      "2    5.145455\n",
      "3    5.455696\n",
      "4    5.703601\n",
      "5    5.467391\n",
      "6    5.222222\n",
      "7    5.225118\n",
      "8    7.388889\n",
      "Name: dincome, dtype: float64\n"
     ]
    }
   ],
   "source": [
    "# Dependencies\n",
    "from scipy.stats import linregress\n",
    "\n",
    "x_axis = [1, 2, 3, 4, 5, 6, 7, 8]\n",
    "print (x_axis)\n",
    "ave_income = sf_df.groupby('dage')['dincome'].mean()\n",
    "#ave_income = very_likely.groupby('dage')['dincome'].mean()\n",
    "#ave_income = [5.1, 5.2, 5.3, 5.4, 5.5, 5.6, 5.7, 8]\n",
    "#ave_income = [1, 2.5, 2.75, 4.25, 5.5, 6, 7.25, 8]\n",
    "print (ave_income)"
   ]
  },
  {
   "cell_type": "code",
   "execution_count": 72,
   "metadata": {},
   "outputs": [
    {
     "name": "stdout",
     "output_type": "stream",
     "text": [
      "0.18706335633456317 4.742664852200339\n"
     ]
    }
   ],
   "source": [
    "\n",
    "(slope, intercept, _, _, _) = linregress(x_axis, ave_income)\n",
    "print (slope, intercept)\n"
   ]
  },
  {
   "cell_type": "code",
   "execution_count": 74,
   "metadata": {},
   "outputs": [
    {
     "ename": "ValueError",
     "evalue": "x and y must have same first dimension, but have shapes (8,) and (0,)",
     "output_type": "error",
     "traceback": [
      "\u001b[1;31m---------------------------------------------------------------------------\u001b[0m",
      "\u001b[1;31mValueError\u001b[0m                                Traceback (most recent call last)",
      "\u001b[1;32m<ipython-input-74-3d96bb64cb3a>\u001b[0m in \u001b[0;36m<module>\u001b[1;34m()\u001b[0m\n\u001b[0;32m     12\u001b[0m \u001b[1;33m\u001b[0m\u001b[0m\n\u001b[0;32m     13\u001b[0m \u001b[0max\u001b[0m\u001b[1;33m.\u001b[0m\u001b[0mplot\u001b[0m\u001b[1;33m(\u001b[0m\u001b[0mx_axis\u001b[0m\u001b[1;33m,\u001b[0m \u001b[0mave_income\u001b[0m\u001b[1;33m,\u001b[0m \u001b[0mlinewidth\u001b[0m\u001b[1;33m=\u001b[0m\u001b[1;36m0\u001b[0m\u001b[1;33m,\u001b[0m \u001b[0mmarker\u001b[0m\u001b[1;33m=\u001b[0m\u001b[1;34m'o'\u001b[0m\u001b[1;33m)\u001b[0m\u001b[1;33m\u001b[0m\u001b[0m\n\u001b[1;32m---> 14\u001b[1;33m \u001b[0max\u001b[0m\u001b[1;33m.\u001b[0m\u001b[0mplot\u001b[0m\u001b[1;33m(\u001b[0m\u001b[0mx_axis\u001b[0m\u001b[1;33m,\u001b[0m \u001b[0mfit\u001b[0m\u001b[1;33m,\u001b[0m \u001b[1;34m'b--'\u001b[0m\u001b[1;33m)\u001b[0m\u001b[1;33m\u001b[0m\u001b[0m\n\u001b[0m\u001b[0;32m     15\u001b[0m \u001b[1;33m\u001b[0m\u001b[0m\n\u001b[0;32m     16\u001b[0m \u001b[0mplt\u001b[0m\u001b[1;33m.\u001b[0m\u001b[0mshow\u001b[0m\u001b[1;33m(\u001b[0m\u001b[1;33m)\u001b[0m\u001b[1;33m\u001b[0m\u001b[0m\n",
      "\u001b[1;32m~\\Anaconda3\\envs\\PythonData2\\lib\\site-packages\\matplotlib\\__init__.py\u001b[0m in \u001b[0;36minner\u001b[1;34m(ax, *args, **kwargs)\u001b[0m\n\u001b[0;32m   1715\u001b[0m                     warnings.warn(msg % (label_namer, func.__name__),\n\u001b[0;32m   1716\u001b[0m                                   RuntimeWarning, stacklevel=2)\n\u001b[1;32m-> 1717\u001b[1;33m             \u001b[1;32mreturn\u001b[0m \u001b[0mfunc\u001b[0m\u001b[1;33m(\u001b[0m\u001b[0max\u001b[0m\u001b[1;33m,\u001b[0m \u001b[1;33m*\u001b[0m\u001b[0margs\u001b[0m\u001b[1;33m,\u001b[0m \u001b[1;33m**\u001b[0m\u001b[0mkwargs\u001b[0m\u001b[1;33m)\u001b[0m\u001b[1;33m\u001b[0m\u001b[0m\n\u001b[0m\u001b[0;32m   1718\u001b[0m         \u001b[0mpre_doc\u001b[0m \u001b[1;33m=\u001b[0m \u001b[0minner\u001b[0m\u001b[1;33m.\u001b[0m\u001b[0m__doc__\u001b[0m\u001b[1;33m\u001b[0m\u001b[0m\n\u001b[0;32m   1719\u001b[0m         \u001b[1;32mif\u001b[0m \u001b[0mpre_doc\u001b[0m \u001b[1;32mis\u001b[0m \u001b[1;32mNone\u001b[0m\u001b[1;33m:\u001b[0m\u001b[1;33m\u001b[0m\u001b[0m\n",
      "\u001b[1;32m~\\Anaconda3\\envs\\PythonData2\\lib\\site-packages\\matplotlib\\axes\\_axes.py\u001b[0m in \u001b[0;36mplot\u001b[1;34m(self, *args, **kwargs)\u001b[0m\n\u001b[0;32m   1370\u001b[0m         \u001b[0mkwargs\u001b[0m \u001b[1;33m=\u001b[0m \u001b[0mcbook\u001b[0m\u001b[1;33m.\u001b[0m\u001b[0mnormalize_kwargs\u001b[0m\u001b[1;33m(\u001b[0m\u001b[0mkwargs\u001b[0m\u001b[1;33m,\u001b[0m \u001b[0m_alias_map\u001b[0m\u001b[1;33m)\u001b[0m\u001b[1;33m\u001b[0m\u001b[0m\n\u001b[0;32m   1371\u001b[0m \u001b[1;33m\u001b[0m\u001b[0m\n\u001b[1;32m-> 1372\u001b[1;33m         \u001b[1;32mfor\u001b[0m \u001b[0mline\u001b[0m \u001b[1;32min\u001b[0m \u001b[0mself\u001b[0m\u001b[1;33m.\u001b[0m\u001b[0m_get_lines\u001b[0m\u001b[1;33m(\u001b[0m\u001b[1;33m*\u001b[0m\u001b[0margs\u001b[0m\u001b[1;33m,\u001b[0m \u001b[1;33m**\u001b[0m\u001b[0mkwargs\u001b[0m\u001b[1;33m)\u001b[0m\u001b[1;33m:\u001b[0m\u001b[1;33m\u001b[0m\u001b[0m\n\u001b[0m\u001b[0;32m   1373\u001b[0m             \u001b[0mself\u001b[0m\u001b[1;33m.\u001b[0m\u001b[0madd_line\u001b[0m\u001b[1;33m(\u001b[0m\u001b[0mline\u001b[0m\u001b[1;33m)\u001b[0m\u001b[1;33m\u001b[0m\u001b[0m\n\u001b[0;32m   1374\u001b[0m             \u001b[0mlines\u001b[0m\u001b[1;33m.\u001b[0m\u001b[0mappend\u001b[0m\u001b[1;33m(\u001b[0m\u001b[0mline\u001b[0m\u001b[1;33m)\u001b[0m\u001b[1;33m\u001b[0m\u001b[0m\n",
      "\u001b[1;32m~\\Anaconda3\\envs\\PythonData2\\lib\\site-packages\\matplotlib\\axes\\_base.py\u001b[0m in \u001b[0;36m_grab_next_args\u001b[1;34m(self, *args, **kwargs)\u001b[0m\n\u001b[0;32m    402\u001b[0m                 \u001b[0mthis\u001b[0m \u001b[1;33m+=\u001b[0m \u001b[0margs\u001b[0m\u001b[1;33m[\u001b[0m\u001b[1;36m0\u001b[0m\u001b[1;33m]\u001b[0m\u001b[1;33m,\u001b[0m\u001b[1;33m\u001b[0m\u001b[0m\n\u001b[0;32m    403\u001b[0m                 \u001b[0margs\u001b[0m \u001b[1;33m=\u001b[0m \u001b[0margs\u001b[0m\u001b[1;33m[\u001b[0m\u001b[1;36m1\u001b[0m\u001b[1;33m:\u001b[0m\u001b[1;33m]\u001b[0m\u001b[1;33m\u001b[0m\u001b[0m\n\u001b[1;32m--> 404\u001b[1;33m             \u001b[1;32mfor\u001b[0m \u001b[0mseg\u001b[0m \u001b[1;32min\u001b[0m \u001b[0mself\u001b[0m\u001b[1;33m.\u001b[0m\u001b[0m_plot_args\u001b[0m\u001b[1;33m(\u001b[0m\u001b[0mthis\u001b[0m\u001b[1;33m,\u001b[0m \u001b[0mkwargs\u001b[0m\u001b[1;33m)\u001b[0m\u001b[1;33m:\u001b[0m\u001b[1;33m\u001b[0m\u001b[0m\n\u001b[0m\u001b[0;32m    405\u001b[0m                 \u001b[1;32myield\u001b[0m \u001b[0mseg\u001b[0m\u001b[1;33m\u001b[0m\u001b[0m\n\u001b[0;32m    406\u001b[0m \u001b[1;33m\u001b[0m\u001b[0m\n",
      "\u001b[1;32m~\\Anaconda3\\envs\\PythonData2\\lib\\site-packages\\matplotlib\\axes\\_base.py\u001b[0m in \u001b[0;36m_plot_args\u001b[1;34m(self, tup, kwargs)\u001b[0m\n\u001b[0;32m    382\u001b[0m             \u001b[0mx\u001b[0m\u001b[1;33m,\u001b[0m \u001b[0my\u001b[0m \u001b[1;33m=\u001b[0m \u001b[0mindex_of\u001b[0m\u001b[1;33m(\u001b[0m\u001b[0mtup\u001b[0m\u001b[1;33m[\u001b[0m\u001b[1;33m-\u001b[0m\u001b[1;36m1\u001b[0m\u001b[1;33m]\u001b[0m\u001b[1;33m)\u001b[0m\u001b[1;33m\u001b[0m\u001b[0m\n\u001b[0;32m    383\u001b[0m \u001b[1;33m\u001b[0m\u001b[0m\n\u001b[1;32m--> 384\u001b[1;33m         \u001b[0mx\u001b[0m\u001b[1;33m,\u001b[0m \u001b[0my\u001b[0m \u001b[1;33m=\u001b[0m \u001b[0mself\u001b[0m\u001b[1;33m.\u001b[0m\u001b[0m_xy_from_xy\u001b[0m\u001b[1;33m(\u001b[0m\u001b[0mx\u001b[0m\u001b[1;33m,\u001b[0m \u001b[0my\u001b[0m\u001b[1;33m)\u001b[0m\u001b[1;33m\u001b[0m\u001b[0m\n\u001b[0m\u001b[0;32m    385\u001b[0m \u001b[1;33m\u001b[0m\u001b[0m\n\u001b[0;32m    386\u001b[0m         \u001b[1;32mif\u001b[0m \u001b[0mself\u001b[0m\u001b[1;33m.\u001b[0m\u001b[0mcommand\u001b[0m \u001b[1;33m==\u001b[0m \u001b[1;34m'plot'\u001b[0m\u001b[1;33m:\u001b[0m\u001b[1;33m\u001b[0m\u001b[0m\n",
      "\u001b[1;32m~\\Anaconda3\\envs\\PythonData2\\lib\\site-packages\\matplotlib\\axes\\_base.py\u001b[0m in \u001b[0;36m_xy_from_xy\u001b[1;34m(self, x, y)\u001b[0m\n\u001b[0;32m    241\u001b[0m         \u001b[1;32mif\u001b[0m \u001b[0mx\u001b[0m\u001b[1;33m.\u001b[0m\u001b[0mshape\u001b[0m\u001b[1;33m[\u001b[0m\u001b[1;36m0\u001b[0m\u001b[1;33m]\u001b[0m \u001b[1;33m!=\u001b[0m \u001b[0my\u001b[0m\u001b[1;33m.\u001b[0m\u001b[0mshape\u001b[0m\u001b[1;33m[\u001b[0m\u001b[1;36m0\u001b[0m\u001b[1;33m]\u001b[0m\u001b[1;33m:\u001b[0m\u001b[1;33m\u001b[0m\u001b[0m\n\u001b[0;32m    242\u001b[0m             raise ValueError(\"x and y must have same first dimension, but \"\n\u001b[1;32m--> 243\u001b[1;33m                              \"have shapes {} and {}\".format(x.shape, y.shape))\n\u001b[0m\u001b[0;32m    244\u001b[0m         \u001b[1;32mif\u001b[0m \u001b[0mx\u001b[0m\u001b[1;33m.\u001b[0m\u001b[0mndim\u001b[0m \u001b[1;33m>\u001b[0m \u001b[1;36m2\u001b[0m \u001b[1;32mor\u001b[0m \u001b[0my\u001b[0m\u001b[1;33m.\u001b[0m\u001b[0mndim\u001b[0m \u001b[1;33m>\u001b[0m \u001b[1;36m2\u001b[0m\u001b[1;33m:\u001b[0m\u001b[1;33m\u001b[0m\u001b[0m\n\u001b[0;32m    245\u001b[0m             raise ValueError(\"x and y can be no greater than 2-D, but have \"\n",
      "\u001b[1;31mValueError\u001b[0m: x and y must have same first dimension, but have shapes (8,) and (0,)"
     ]
    },
    {
     "data": {
      "image/png": "[encoded data removed]",
      "text/plain": [
       "<matplotlib.figure.Figure at 0x199f5a3cd30>"
      ]
     },
     "metadata": {},
     "output_type": "display_data"
    }
   ],
   "source": [
    "fit = int(slope) * x_axis + intercept\n",
    "\n",
    "fig, ax = plt.subplots()\n",
    "\n",
    "fig.suptitle(\"Average Income by Age Group\", fontsize=16, fontweight=\"bold\")\n",
    "\n",
    "ax.set_xlim(0, 10)\n",
    "ax.set_ylim(0, 10)\n",
    "\n",
    "ax.set_xlabel(\"Age Group\")\n",
    "ax.set_ylabel(\"Avege Income\")\n",
    "\n",
    "ax.plot(x_axis, ave_income, linewidth=0, marker='o')\n",
    "ax.plot(x_axis, fit, 'b--')\n",
    "\n",
    "plt.show()"
   ]
  },
  {
   "cell_type": "code",
   "execution_count": 75,
   "metadata": {},
   "outputs": [
    {
     "name": "stdout",
     "output_type": "stream",
     "text": [
      "[1, 2.5, 2.75, 4.25, 5.5, 6, 7.25, 8, 8.75, 9.8]\n",
      "0.961818181818182 1.251818181818181\n"
     ]
    }
   ],
   "source": [
    "x_axis = np.arange(0, 10, 1)\n",
    "fake = [1, 2.5, 2.75, 4.25, 5.5, 6, 7.25, 8, 8.75, 9.8]\n",
    "print (fake)\n",
    "(slope, intercept, _, _, _) = linregress(x_axis, fake)\n",
    "\n",
    "print(slope, intercept)"
   ]
  },
  {
   "cell_type": "code",
   "execution_count": 76,
   "metadata": {},
   "outputs": [
    {
     "data": {
      "image/png": "[encoded data removed]",
      "text/plain": [
       "<matplotlib.figure.Figure at 0x199f4e337b8>"
      ]
     },
     "metadata": {},
     "output_type": "display_data"
    }
   ],
   "source": [
    "\n",
    "fit = slope * x_axis + intercept\n",
    "\n",
    "fig, ax = plt.subplots()\n",
    "\n",
    "fig.suptitle(\"Fake Banana Data!\", fontsize=16, fontweight=\"bold\")\n",
    "\n",
    "ax.set_xlim(0, 10)\n",
    "ax.set_ylim(0, 10)\n",
    "\n",
    "ax.set_xlabel(\"Fake Banana Ages (in days)\")\n",
    "ax.set_ylabel(\"Fake Banana Weights (in Hundres of Kilograms)\")\n",
    "\n",
    "ax.plot(x_axis, fake, linewidth=0, marker='o')\n",
    "ax.plot(x_axis, fit, 'b--')\n",
    "\n",
    "plt.show()\n"
   ]
  },
  {
   "cell_type": "code",
   "execution_count": null,
   "metadata": {},
   "outputs": [],
   "source": []
  }
 ],
 "metadata": {
  "kernelspec": {
   "display_name": "PythonData2",
   "language": "python",
   "name": "envname"
  },
  "language_info": {
   "codemirror_mode": {
    "name": "ipython",
    "version": 3
   },
   "file_extension": ".py",
   "mimetype": "text/x-python",
   "name": "python",
   "nbconvert_exporter": "python",
   "pygments_lexer": "ipython3",
   "version": "3.6.4"
  }
 },
 "nbformat": 4,
 "nbformat_minor": 2
}
