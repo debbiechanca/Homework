{
 "cells": [
  {
   "cell_type": "code",
   "execution_count": 1,
   "metadata": {},
   "outputs": [],
   "source": [
    "# Import modules\n",
    "import pandas as pd\n",
    "\n",
    "import matplotlib.pyplot as plt\n",
    "import numpy as np"
   ]
  },
  {
   "cell_type": "code",
   "execution_count": 2,
   "metadata": {},
   "outputs": [],
   "source": [
    "# Open sfdata.csv \n",
    "# Save path to data set in a variable\n",
    "data_file = \"sfdata.csv\""
   ]
  },
  {
   "cell_type": "code",
   "execution_count": 3,
   "metadata": {},
   "outputs": [
    {
     "data": {
      "text/html": [
       "<div>\n",
       "<style scoped>\n",
       "    .dataframe tbody tr th:only-of-type {\n",
       "        vertical-align: middle;\n",
       "    }\n",
       "\n",
       "    .dataframe tbody tr th {\n",
       "        vertical-align: top;\n",
       "    }\n",
       "\n",
       "    .dataframe thead th {\n",
       "        text-align: right;\n",
       "    }\n",
       "</style>\n",
       "<table border=\"1\" class=\"dataframe\">\n",
       "  <thead>\n",
       "    <tr style=\"text-align: right;\">\n",
       "      <th></th>\n",
       "      <th>year</th>\n",
       "      <th>zipcode</th>\n",
       "      <th>dage</th>\n",
       "      <th>dethnic</th>\n",
       "      <th>dlivedsf</th>\n",
       "      <th>deduc</th>\n",
       "      <th>dincome</th>\n",
       "      <th>movesf</th>\n",
       "      <th>ownrenhm</th>\n",
       "      <th>City</th>\n",
       "      <th>State</th>\n",
       "      <th>AvePrice</th>\n",
       "      <th>Lat</th>\n",
       "      <th>Lng</th>\n",
       "    </tr>\n",
       "  </thead>\n",
       "  <tbody>\n",
       "    <tr>\n",
       "      <th>0</th>\n",
       "      <td>2017</td>\n",
       "      <td>94109</td>\n",
       "      <td>7</td>\n",
       "      <td>4</td>\n",
       "      <td>6</td>\n",
       "      <td>3</td>\n",
       "      <td>2</td>\n",
       "      <td>4</td>\n",
       "      <td>2</td>\n",
       "      <td>San Francisco</td>\n",
       "      <td>CA</td>\n",
       "      <td>3.942708e+06</td>\n",
       "      <td>37.792979</td>\n",
       "      <td>-122.421242</td>\n",
       "    </tr>\n",
       "    <tr>\n",
       "      <th>1</th>\n",
       "      <td>2017</td>\n",
       "      <td>94109</td>\n",
       "      <td>2</td>\n",
       "      <td>4</td>\n",
       "      <td>3</td>\n",
       "      <td>4</td>\n",
       "      <td>6</td>\n",
       "      <td>2</td>\n",
       "      <td>2</td>\n",
       "      <td>San Francisco</td>\n",
       "      <td>CA</td>\n",
       "      <td>3.942708e+06</td>\n",
       "      <td>37.792979</td>\n",
       "      <td>-122.421242</td>\n",
       "    </tr>\n",
       "    <tr>\n",
       "      <th>2</th>\n",
       "      <td>2017</td>\n",
       "      <td>94109</td>\n",
       "      <td>3</td>\n",
       "      <td>4</td>\n",
       "      <td>2</td>\n",
       "      <td>4</td>\n",
       "      <td>6</td>\n",
       "      <td>2</td>\n",
       "      <td>2</td>\n",
       "      <td>San Francisco</td>\n",
       "      <td>CA</td>\n",
       "      <td>3.942708e+06</td>\n",
       "      <td>37.792979</td>\n",
       "      <td>-122.421242</td>\n",
       "    </tr>\n",
       "    <tr>\n",
       "      <th>3</th>\n",
       "      <td>2017</td>\n",
       "      <td>94109</td>\n",
       "      <td>2</td>\n",
       "      <td>2</td>\n",
       "      <td>2</td>\n",
       "      <td>4</td>\n",
       "      <td>3</td>\n",
       "      <td>2</td>\n",
       "      <td>2</td>\n",
       "      <td>San Francisco</td>\n",
       "      <td>CA</td>\n",
       "      <td>3.942708e+06</td>\n",
       "      <td>37.792979</td>\n",
       "      <td>-122.421242</td>\n",
       "    </tr>\n",
       "    <tr>\n",
       "      <th>4</th>\n",
       "      <td>2017</td>\n",
       "      <td>94109</td>\n",
       "      <td>5</td>\n",
       "      <td>4</td>\n",
       "      <td>1</td>\n",
       "      <td>4</td>\n",
       "      <td>8</td>\n",
       "      <td>1</td>\n",
       "      <td>3</td>\n",
       "      <td>San Francisco</td>\n",
       "      <td>CA</td>\n",
       "      <td>3.942708e+06</td>\n",
       "      <td>37.792979</td>\n",
       "      <td>-122.421242</td>\n",
       "    </tr>\n",
       "  </tbody>\n",
       "</table>\n",
       "</div>"
      ],
      "text/plain": [
       "   year  zipcode  dage  dethnic  dlivedsf  deduc  dincome  movesf  ownrenhm  \\\n",
       "0  2017    94109     7        4         6      3        2       4         2   \n",
       "1  2017    94109     2        4         3      4        6       2         2   \n",
       "2  2017    94109     3        4         2      4        6       2         2   \n",
       "3  2017    94109     2        2         2      4        3       2         2   \n",
       "4  2017    94109     5        4         1      4        8       1         3   \n",
       "\n",
       "            City State      AvePrice        Lat         Lng  \n",
       "0  San Francisco    CA  3.942708e+06  37.792979 -122.421242  \n",
       "1  San Francisco    CA  3.942708e+06  37.792979 -122.421242  \n",
       "2  San Francisco    CA  3.942708e+06  37.792979 -122.421242  \n",
       "3  San Francisco    CA  3.942708e+06  37.792979 -122.421242  \n",
       "4  San Francisco    CA  3.942708e+06  37.792979 -122.421242  "
      ]
     },
     "execution_count": 3,
     "metadata": {},
     "output_type": "execute_result"
    }
   ],
   "source": [
    "# Use Pandas to read sfgov.org data and zillow medium single family home price\n",
    "sf_df = pd.read_csv(data_file)\n",
    "sf_df.head()"
   ]
  },
  {
   "cell_type": "code",
   "execution_count": 4,
   "metadata": {},
   "outputs": [
    {
     "data": {
      "text/html": [
       "<div>\n",
       "<style scoped>\n",
       "    .dataframe tbody tr th:only-of-type {\n",
       "        vertical-align: middle;\n",
       "    }\n",
       "\n",
       "    .dataframe tbody tr th {\n",
       "        vertical-align: top;\n",
       "    }\n",
       "\n",
       "    .dataframe thead th {\n",
       "        text-align: right;\n",
       "    }\n",
       "</style>\n",
       "<table border=\"1\" class=\"dataframe\">\n",
       "  <thead>\n",
       "    <tr style=\"text-align: right;\">\n",
       "      <th></th>\n",
       "      <th>year</th>\n",
       "      <th>zipcode</th>\n",
       "      <th>dage</th>\n",
       "      <th>dethnic</th>\n",
       "      <th>dlivedsf</th>\n",
       "      <th>deduc</th>\n",
       "      <th>dincome</th>\n",
       "      <th>movesf</th>\n",
       "      <th>ownrenhm</th>\n",
       "      <th>City</th>\n",
       "      <th>State</th>\n",
       "      <th>AvePrice</th>\n",
       "      <th>Lat</th>\n",
       "      <th>Lng</th>\n",
       "    </tr>\n",
       "  </thead>\n",
       "  <tbody>\n",
       "    <tr>\n",
       "      <th>4</th>\n",
       "      <td>2017</td>\n",
       "      <td>94109</td>\n",
       "      <td>5</td>\n",
       "      <td>4</td>\n",
       "      <td>1</td>\n",
       "      <td>4</td>\n",
       "      <td>8</td>\n",
       "      <td>1</td>\n",
       "      <td>3</td>\n",
       "      <td>San Francisco</td>\n",
       "      <td>CA</td>\n",
       "      <td>3.942708e+06</td>\n",
       "      <td>37.792979</td>\n",
       "      <td>-122.421242</td>\n",
       "    </tr>\n",
       "    <tr>\n",
       "      <th>7</th>\n",
       "      <td>2017</td>\n",
       "      <td>94109</td>\n",
       "      <td>2</td>\n",
       "      <td>2</td>\n",
       "      <td>4</td>\n",
       "      <td>4</td>\n",
       "      <td>5</td>\n",
       "      <td>1</td>\n",
       "      <td>2</td>\n",
       "      <td>San Francisco</td>\n",
       "      <td>CA</td>\n",
       "      <td>3.942708e+06</td>\n",
       "      <td>37.792979</td>\n",
       "      <td>-122.421242</td>\n",
       "    </tr>\n",
       "    <tr>\n",
       "      <th>11</th>\n",
       "      <td>2017</td>\n",
       "      <td>94109</td>\n",
       "      <td>3</td>\n",
       "      <td>4</td>\n",
       "      <td>3</td>\n",
       "      <td>4</td>\n",
       "      <td>7</td>\n",
       "      <td>1</td>\n",
       "      <td>2</td>\n",
       "      <td>San Francisco</td>\n",
       "      <td>CA</td>\n",
       "      <td>3.942708e+06</td>\n",
       "      <td>37.792979</td>\n",
       "      <td>-122.421242</td>\n",
       "    </tr>\n",
       "    <tr>\n",
       "      <th>14</th>\n",
       "      <td>2017</td>\n",
       "      <td>94109</td>\n",
       "      <td>3</td>\n",
       "      <td>2</td>\n",
       "      <td>3</td>\n",
       "      <td>4</td>\n",
       "      <td>6</td>\n",
       "      <td>1</td>\n",
       "      <td>2</td>\n",
       "      <td>San Francisco</td>\n",
       "      <td>CA</td>\n",
       "      <td>3.942708e+06</td>\n",
       "      <td>37.792979</td>\n",
       "      <td>-122.421242</td>\n",
       "    </tr>\n",
       "    <tr>\n",
       "      <th>25</th>\n",
       "      <td>2017</td>\n",
       "      <td>94109</td>\n",
       "      <td>1</td>\n",
       "      <td>5</td>\n",
       "      <td>2</td>\n",
       "      <td>2</td>\n",
       "      <td>2</td>\n",
       "      <td>1</td>\n",
       "      <td>2</td>\n",
       "      <td>San Francisco</td>\n",
       "      <td>CA</td>\n",
       "      <td>3.942708e+06</td>\n",
       "      <td>37.792979</td>\n",
       "      <td>-122.421242</td>\n",
       "    </tr>\n",
       "  </tbody>\n",
       "</table>\n",
       "</div>"
      ],
      "text/plain": [
       "    year  zipcode  dage  dethnic  dlivedsf  deduc  dincome  movesf  ownrenhm  \\\n",
       "4   2017    94109     5        4         1      4        8       1         3   \n",
       "7   2017    94109     2        2         4      4        5       1         2   \n",
       "11  2017    94109     3        4         3      4        7       1         2   \n",
       "14  2017    94109     3        2         3      4        6       1         2   \n",
       "25  2017    94109     1        5         2      2        2       1         2   \n",
       "\n",
       "             City State      AvePrice        Lat         Lng  \n",
       "4   San Francisco    CA  3.942708e+06  37.792979 -122.421242  \n",
       "7   San Francisco    CA  3.942708e+06  37.792979 -122.421242  \n",
       "11  San Francisco    CA  3.942708e+06  37.792979 -122.421242  \n",
       "14  San Francisco    CA  3.942708e+06  37.792979 -122.421242  \n",
       "25  San Francisco    CA  3.942708e+06  37.792979 -122.421242  "
      ]
     },
     "execution_count": 4,
     "metadata": {},
     "output_type": "execute_result"
    }
   ],
   "source": [
    "very_likely = sf_df[sf_df['movesf']== 1]\n",
    "very_likely.head()"
   ]
  },
  {
   "cell_type": "code",
   "execution_count": 5,
   "metadata": {},
   "outputs": [
    {
     "name": "stdout",
     "output_type": "stream",
     "text": [
      "3    57\n",
      "2    47\n",
      "4    26\n",
      "7    18\n",
      "1    18\n",
      "6    14\n",
      "5    14\n",
      "8     1\n",
      "Name: dage, dtype: int64\n"
     ]
    }
   ],
   "source": [
    "age_group_moveout = very_likely['dage'].value_counts()\n",
    "print (age_group_moveout)"
   ]
  },
  {
   "cell_type": "code",
   "execution_count": 6,
   "metadata": {},
   "outputs": [
    {
     "data": {
      "text/plain": [
       "(0, 67)"
      ]
     },
     "execution_count": 6,
     "metadata": {},
     "output_type": "execute_result"
    },
    {
     "data": {
      "image/png": "[encoded data removed]",
      "text/plain": [
       "<matplotlib.figure.Figure at 0x154bb923fd0>"
      ]
     },
     "metadata": {},
     "output_type": "display_data"
    }
   ],
   "source": [
    "x_axis =np.arange(len(age_group_moveout))\n",
    "plt.bar(x_axis, age_group_moveout, color='b', alpha=0.5)\n",
    "tick_locations = [value+0.4 for value in x_axis]\n",
    "plt.xticks(tick_locations, [\"35-44yo\", \"25-34yo\", \"45-54yo\", \"18-24yo\", \"65+yo\", \"60-64yo\", \"55-59yo\", \"No answer\"], rotation='vertical')\n",
    "# Give our chart some labels and a tile\n",
    "plt.title(\"Age Groups Very Likely to move out of San Francisco\")\n",
    "plt.xlabel(\"Age Groups\")\n",
    "plt.ylabel(\"Very Likely to move out of San Francisco\")\n",
    "plt.ylim(0, max(age_group_moveout)+10)"
   ]
  },
  {
   "cell_type": "code",
   "execution_count": 7,
   "metadata": {},
   "outputs": [
    {
     "name": "stdout",
     "output_type": "stream",
     "text": [
      "5    46\n",
      "6    43\n",
      "7    29\n",
      "8    28\n",
      "4    13\n",
      "3    13\n",
      "2    13\n",
      "1    10\n",
      "Name: dincome, dtype: int64\n"
     ]
    }
   ],
   "source": [
    "income_moveout = very_likely['dincome'].value_counts()\n",
    "print (income_moveout)"
   ]
  },
  {
   "cell_type": "code",
   "execution_count": 43,
   "metadata": {},
   "outputs": [
    {
     "name": "stdout",
     "output_type": "stream",
     "text": [
      "4     81\n",
      "5     35\n",
      "2     30\n",
      "1     15\n",
      "10    13\n",
      "9     10\n",
      "3      6\n",
      "7      4\n",
      "8      1\n",
      "Name: dethnic, dtype: int64\n"
     ]
    }
   ],
   "source": [
    "ethnic_moveout = very_likely['dethnic'].value_counts()\n",
    "print (ethnic_moveout)"
   ]
  },
  {
   "cell_type": "code",
   "execution_count": 11,
   "metadata": {},
   "outputs": [
    {
     "name": "stdout",
     "output_type": "stream",
     "text": [
      "4    113\n",
      "3     43\n",
      "2     25\n",
      "1     13\n",
      "5      1\n",
      "Name: deduc, dtype: int64\n"
     ]
    }
   ],
   "source": [
    "education_moveout = very_likely['deduc'].value_counts()\n",
    "print (education_moveout)"
   ]
  },
  {
   "cell_type": "code",
   "execution_count": 12,
   "metadata": {},
   "outputs": [
    {
     "name": "stdout",
     "output_type": "stream",
     "text": [
      "2    136\n",
      "1     54\n",
      "3      2\n",
      "6      1\n",
      "5      1\n",
      "4      1\n",
      "Name: ownrenhm, dtype: int64\n"
     ]
    }
   ],
   "source": [
    "ownrent_moveout = very_likely['ownrenhm'].value_counts()\n",
    "print (ownrent_moveout)"
   ]
  },
  {
   "cell_type": "code",
   "execution_count": 13,
   "metadata": {},
   "outputs": [
    {
     "name": "stdout",
     "output_type": "stream",
     "text": [
      "4    54\n",
      "6    49\n",
      "3    30\n",
      "5    29\n",
      "2    17\n",
      "1    16\n",
      "Name: dlivedsf, dtype: int64\n"
     ]
    }
   ],
   "source": [
    "livedsf_moveout = very_likely['dlivedsf'].value_counts()\n",
    "print (livedsf_moveout)"
   ]
  },
  {
   "cell_type": "code",
   "execution_count": 16,
   "metadata": {},
   "outputs": [
    {
     "name": "stdout",
     "output_type": "stream",
     "text": [
      "94110    20\n",
      "94112    19\n",
      "94109    16\n",
      "94124    14\n",
      "94103    13\n",
      "94118    12\n",
      "94122    11\n",
      "94132    11\n",
      "94117    10\n",
      "94115    10\n",
      "94114    10\n",
      "94123     9\n",
      "94116     8\n",
      "94131     7\n",
      "94134     7\n",
      "94121     5\n",
      "94127     5\n",
      "94107     5\n",
      "94133     3\n",
      "Name: zipcode, dtype: int64\n"
     ]
    }
   ],
   "source": [
    "zipcode_moveout = very_likely['zipcode'].value_counts()\n",
    "print (zipcode_moveout)"
   ]
  },
  {
   "cell_type": "code",
   "execution_count": 70,
   "metadata": {},
   "outputs": [
    {
     "data": {
      "text/plain": [
       "(0, 91)"
      ]
     },
     "execution_count": 70,
     "metadata": {},
     "output_type": "execute_result"
    },
    {
     "data": {
      "image/png": "[encoded data removed]",
      "text/plain": [
       "<matplotlib.figure.Figure at 0x154bfce6128>"
      ]
     },
     "metadata": {},
     "output_type": "display_data"
    }
   ],
   "source": [
    "x = np.linspace(0,10,10)\n",
    "y1 = x\n",
    "y2 = x**2\n",
    "y3 = x**3\n",
    "y4 = np.sqrt(x)\n",
    "\n",
    "\n",
    "plt.figure(figsize=(20,10))\n",
    "\n",
    "plt.subplot(2,2,1)\n",
    "#plt.plot(x,y1,'ro')\n",
    "x_axis =np.arange(len(age_group_moveout))\n",
    "plt.bar(x_axis, age_group_moveout, color='b', alpha=0.5)\n",
    "plt.title('Most Likely to Move Out of SF by Age Group')\n",
    "plt.xticks(tick_locations, [\"35-44yo\", \"25-34yo\", \"45-54yo\", \"18-24yo\", \"65+yo\", \"60-64yo\", \"55-59yo\", \"No answer\"], rotation='vertical')\n",
    "# Give our chart some labels and a tile\n",
    "plt.title(\"Age Groups Very Likely to move out of San Francisco\")\n",
    "plt.xlabel(\"Age Groups\")\n",
    "plt.ylabel(\"Very Likely to move out of San Francisco\")\n",
    "plt.ylim(0, max(age_group_moveout)+10)\n",
    "\n",
    "plt.subplot(2,2,2)\n",
    "x_axis =np.arange(len(ethnic_moveout))\n",
    "plt.bar(x_axis, ethnic_moveout, color='m', alpha=0.5)\n",
    "plt.title('Most Likely to Move Out of SF by Ethnicity')\n",
    "#plt.xticks(tick_locations, [\"35-44yo\", \"25-34yo\", \"45-54yo\", \"18-24yo\", \"65+yo\", \"60-64yo\", \"55-59yo\", \"No answer\"], rotation='vertical')\n",
    "# Give our chart some labels and a tile\n",
    "plt.title(\"Ethnicity Very Likely to move out of San Francisco\")\n",
    "plt.xlabel(\"Ethnicity\")\n",
    "plt.ylabel(\"Very Likely to move out of San Francisco\")\n",
    "plt.ylim(0, max(ethnic_moveout)+10)\n",
    "\n",
    "plt.subplot(2,2,3)\n",
    "x_axis =np.arange(len(education_moveout))\n",
    "plt.bar(x_axis, education_moveout, color='y', alpha=0.5)\n",
    "plt.title('Most Likely to Move Out of SF by Ethnicity')\n",
    "#plt.xticks(tick_locations, [\"35-44yo\", \"25-34yo\", \"45-54yo\", \"18-24yo\", \"65+yo\", \"60-64yo\", \"55-59yo\", \"No answer\"], rotation='vertical')\n",
    "# Give our chart some labels and a tile\n",
    "plt.title(\"Education Level Very Likely to move out of San Francisco\")\n",
    "plt.xlabel(\"Education Level\")\n",
    "plt.ylabel(\"Very Likely to move out of San Francisco\")\n",
    "plt.ylim(0, max(education_moveout)+10)\n",
    "\n",
    "plt.subplot(2,2,4)\n",
    "x_axis =np.arange(len(income_moveout))\n",
    "plt.bar(x_axis, income_moveout, color='g', alpha=0.5)\n",
    "plt.title('Most Likely to Move Out of SF by Ethnicity')\n",
    "#plt.xticks(tick_locations, [\"35-44yo\", \"25-34yo\", \"45-54yo\", \"18-24yo\", \"65+yo\", \"60-64yo\", \"55-59yo\", \"No answer\"], rotation='vertical')\n",
    "# Give our chart some labels and a tile\n",
    "plt.title(\"Income Level Very Likely to move out of San Francisco\")\n",
    "plt.xlabel(\"Income Level\")\n",
    "plt.ylabel(\"Very Likely to move out of San Francisco\")\n",
    "plt.ylim(0, max(income_moveout)+10)"
   ]
  },
  {
   "cell_type": "code",
   "execution_count": null,
   "metadata": {},
   "outputs": [],
   "source": []
  }
 ],
 "metadata": {
  "kernelspec": {
   "display_name": "PythonData2",
   "language": "python",
   "name": "envname"
  },
  "language_info": {
   "codemirror_mode": {
    "name": "ipython",
    "version": 3
   },
   "file_extension": ".py",
   "mimetype": "text/x-python",
   "name": "python",
   "nbconvert_exporter": "python",
   "pygments_lexer": "ipython3",
   "version": "3.6.4"
  }
 },
 "nbformat": 4,
 "nbformat_minor": 2
}
