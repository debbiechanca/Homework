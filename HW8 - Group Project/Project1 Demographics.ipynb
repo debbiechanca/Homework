{
 "cells": [
  {
   "cell_type": "code",
   "execution_count": 1,
   "metadata": {},
   "outputs": [],
   "source": [
    "# Import modules\n",
    "import pandas as pd\n",
    "import matplotlib.pyplot as plt\n",
    "import numpy as np"
   ]
  },
  {
   "cell_type": "code",
   "execution_count": 2,
   "metadata": {},
   "outputs": [],
   "source": [
    "# Open csv files for reading City Survey Master Data 1996-2017 csv file downloaded from http://sfgov.org/citysurvey/file/95.\n",
    "# Save path to data set in a variable\n",
    "data_file = \"Resources/City Survey MASTER Data 2015-2017.csv\""
   ]
  },
  {
   "cell_type": "code",
   "execution_count": 23,
   "metadata": {},
   "outputs": [
    {
     "data": {
      "text/html": [
       "<div>\n",
       "<style scoped>\n",
       "    .dataframe tbody tr th:only-of-type {\n",
       "        vertical-align: middle;\n",
       "    }\n",
       "\n",
       "    .dataframe tbody tr th {\n",
       "        vertical-align: top;\n",
       "    }\n",
       "\n",
       "    .dataframe thead th {\n",
       "        text-align: right;\n",
       "    }\n",
       "</style>\n",
       "<table border=\"1\" class=\"dataframe\">\n",
       "  <thead>\n",
       "    <tr style=\"text-align: right;\">\n",
       "      <th></th>\n",
       "      <th>id</th>\n",
       "      <th>year</th>\n",
       "      <th>mode</th>\n",
       "      <th>language</th>\n",
       "      <th>finweigh</th>\n",
       "      <th>general</th>\n",
       "      <th>stpvnbrd</th>\n",
       "      <th>swcndnbrd</th>\n",
       "      <th>cityligh</th>\n",
       "      <th>wtrswr</th>\n",
       "      <th>...</th>\n",
       "      <th>disablement</th>\n",
       "      <th>zipcode</th>\n",
       "      <th>district</th>\n",
       "      <th>mixed_1</th>\n",
       "      <th>mixed_2</th>\n",
       "      <th>mixed_3</th>\n",
       "      <th>mixed_4</th>\n",
       "      <th>issue1</th>\n",
       "      <th>issue2</th>\n",
       "      <th>issue3</th>\n",
       "    </tr>\n",
       "  </thead>\n",
       "  <tbody>\n",
       "    <tr>\n",
       "      <th>0</th>\n",
       "      <td>201510001</td>\n",
       "      <td>2015</td>\n",
       "      <td>1</td>\n",
       "      <td>1</td>\n",
       "      <td>0.695734</td>\n",
       "      <td>5</td>\n",
       "      <td>3.0</td>\n",
       "      <td>3.0</td>\n",
       "      <td>4.0</td>\n",
       "      <td>5.0</td>\n",
       "      <td>...</td>\n",
       "      <td>2</td>\n",
       "      <td>NaN</td>\n",
       "      <td>8</td>\n",
       "      <td>NaN</td>\n",
       "      <td>NaN</td>\n",
       "      <td>NaN</td>\n",
       "      <td>NaN</td>\n",
       "      <td>NaN</td>\n",
       "      <td>NaN</td>\n",
       "      <td>NaN</td>\n",
       "    </tr>\n",
       "    <tr>\n",
       "      <th>1</th>\n",
       "      <td>201510002</td>\n",
       "      <td>2015</td>\n",
       "      <td>1</td>\n",
       "      <td>1</td>\n",
       "      <td>0.695734</td>\n",
       "      <td>3</td>\n",
       "      <td>NaN</td>\n",
       "      <td>NaN</td>\n",
       "      <td>NaN</td>\n",
       "      <td>NaN</td>\n",
       "      <td>...</td>\n",
       "      <td>2</td>\n",
       "      <td>NaN</td>\n",
       "      <td>2</td>\n",
       "      <td>NaN</td>\n",
       "      <td>NaN</td>\n",
       "      <td>NaN</td>\n",
       "      <td>NaN</td>\n",
       "      <td>NaN</td>\n",
       "      <td>NaN</td>\n",
       "      <td>NaN</td>\n",
       "    </tr>\n",
       "    <tr>\n",
       "      <th>2</th>\n",
       "      <td>201510003</td>\n",
       "      <td>2015</td>\n",
       "      <td>1</td>\n",
       "      <td>1</td>\n",
       "      <td>0.695734</td>\n",
       "      <td>4</td>\n",
       "      <td>NaN</td>\n",
       "      <td>NaN</td>\n",
       "      <td>NaN</td>\n",
       "      <td>NaN</td>\n",
       "      <td>...</td>\n",
       "      <td>2</td>\n",
       "      <td>NaN</td>\n",
       "      <td>5</td>\n",
       "      <td>NaN</td>\n",
       "      <td>NaN</td>\n",
       "      <td>NaN</td>\n",
       "      <td>NaN</td>\n",
       "      <td>NaN</td>\n",
       "      <td>NaN</td>\n",
       "      <td>NaN</td>\n",
       "    </tr>\n",
       "    <tr>\n",
       "      <th>3</th>\n",
       "      <td>201510004</td>\n",
       "      <td>2015</td>\n",
       "      <td>1</td>\n",
       "      <td>1</td>\n",
       "      <td>0.740437</td>\n",
       "      <td>3</td>\n",
       "      <td>NaN</td>\n",
       "      <td>NaN</td>\n",
       "      <td>NaN</td>\n",
       "      <td>NaN</td>\n",
       "      <td>...</td>\n",
       "      <td>2</td>\n",
       "      <td>NaN</td>\n",
       "      <td>7</td>\n",
       "      <td>NaN</td>\n",
       "      <td>NaN</td>\n",
       "      <td>NaN</td>\n",
       "      <td>NaN</td>\n",
       "      <td>NaN</td>\n",
       "      <td>NaN</td>\n",
       "      <td>NaN</td>\n",
       "    </tr>\n",
       "    <tr>\n",
       "      <th>4</th>\n",
       "      <td>201510005</td>\n",
       "      <td>2015</td>\n",
       "      <td>1</td>\n",
       "      <td>1</td>\n",
       "      <td>1.720994</td>\n",
       "      <td>4</td>\n",
       "      <td>4.0</td>\n",
       "      <td>3.0</td>\n",
       "      <td>4.0</td>\n",
       "      <td>4.0</td>\n",
       "      <td>...</td>\n",
       "      <td>2</td>\n",
       "      <td>NaN</td>\n",
       "      <td>6</td>\n",
       "      <td>NaN</td>\n",
       "      <td>NaN</td>\n",
       "      <td>NaN</td>\n",
       "      <td>NaN</td>\n",
       "      <td>NaN</td>\n",
       "      <td>NaN</td>\n",
       "      <td>NaN</td>\n",
       "    </tr>\n",
       "  </tbody>\n",
       "</table>\n",
       "<p>5 rows × 92 columns</p>\n",
       "</div>"
      ],
      "text/plain": [
       "          id  year  mode  language  finweigh  general  stpvnbrd  swcndnbrd  \\\n",
       "0  201510001  2015     1         1  0.695734        5       3.0        3.0   \n",
       "1  201510002  2015     1         1  0.695734        3       NaN        NaN   \n",
       "2  201510003  2015     1         1  0.695734        4       NaN        NaN   \n",
       "3  201510004  2015     1         1  0.740437        3       NaN        NaN   \n",
       "4  201510005  2015     1         1  1.720994        4       4.0        3.0   \n",
       "\n",
       "   cityligh  wtrswr   ...    disablement  zipcode  district  mixed_1  mixed_2  \\\n",
       "0       4.0     5.0   ...              2      NaN         8      NaN      NaN   \n",
       "1       NaN     NaN   ...              2      NaN         2      NaN      NaN   \n",
       "2       NaN     NaN   ...              2      NaN         5      NaN      NaN   \n",
       "3       NaN     NaN   ...              2      NaN         7      NaN      NaN   \n",
       "4       4.0     4.0   ...              2      NaN         6      NaN      NaN   \n",
       "\n",
       "   mixed_3  mixed_4  issue1  issue2  issue3  \n",
       "0      NaN      NaN     NaN     NaN     NaN  \n",
       "1      NaN      NaN     NaN     NaN     NaN  \n",
       "2      NaN      NaN     NaN     NaN     NaN  \n",
       "3      NaN      NaN     NaN     NaN     NaN  \n",
       "4      NaN      NaN     NaN     NaN     NaN  \n",
       "\n",
       "[5 rows x 92 columns]"
      ]
     },
     "execution_count": 23,
     "metadata": {},
     "output_type": "execute_result"
    }
   ],
   "source": [
    "# Use Pandas to read data\n",
    "city_survey_df = pd.read_csv(data_file, dtype={'zipcode':'str'})\n",
    "city_survey_df.head()"
   ]
  },
  {
   "cell_type": "code",
   "execution_count": 24,
   "metadata": {},
   "outputs": [],
   "source": [
    "sf_2017_df = city_survey_df[city_data_df.year == 2017]"
   ]
  },
  {
   "cell_type": "code",
   "execution_count": 25,
   "metadata": {},
   "outputs": [],
   "source": [
    "sf_df = sf_2017_df[['year', 'zipcode', 'dage', 'dlivedsf', 'deduc', 'dincome', 'movesf', 'ownrenhm']].copy()"
   ]
  },
  {
   "cell_type": "code",
   "execution_count": 26,
   "metadata": {},
   "outputs": [
    {
     "data": {
      "text/html": [
       "<div>\n",
       "<style scoped>\n",
       "    .dataframe tbody tr th:only-of-type {\n",
       "        vertical-align: middle;\n",
       "    }\n",
       "\n",
       "    .dataframe tbody tr th {\n",
       "        vertical-align: top;\n",
       "    }\n",
       "\n",
       "    .dataframe thead th {\n",
       "        text-align: right;\n",
       "    }\n",
       "</style>\n",
       "<table border=\"1\" class=\"dataframe\">\n",
       "  <thead>\n",
       "    <tr style=\"text-align: right;\">\n",
       "      <th></th>\n",
       "      <th>year</th>\n",
       "      <th>zipcode</th>\n",
       "      <th>dage</th>\n",
       "      <th>dlivedsf</th>\n",
       "      <th>deduc</th>\n",
       "      <th>dincome</th>\n",
       "      <th>movesf</th>\n",
       "      <th>ownrenhm</th>\n",
       "    </tr>\n",
       "  </thead>\n",
       "  <tbody>\n",
       "    <tr>\n",
       "      <th>2179</th>\n",
       "      <td>2017</td>\n",
       "      <td>94109</td>\n",
       "      <td>7</td>\n",
       "      <td>6</td>\n",
       "      <td>3</td>\n",
       "      <td>2</td>\n",
       "      <td>4</td>\n",
       "      <td>2</td>\n",
       "    </tr>\n",
       "    <tr>\n",
       "      <th>2180</th>\n",
       "      <td>2017</td>\n",
       "      <td>94124</td>\n",
       "      <td>7</td>\n",
       "      <td>6</td>\n",
       "      <td>4</td>\n",
       "      <td>5</td>\n",
       "      <td>4</td>\n",
       "      <td>1</td>\n",
       "    </tr>\n",
       "    <tr>\n",
       "      <th>2181</th>\n",
       "      <td>2017</td>\n",
       "      <td>94103</td>\n",
       "      <td>4</td>\n",
       "      <td>5</td>\n",
       "      <td>2</td>\n",
       "      <td>1</td>\n",
       "      <td>1</td>\n",
       "      <td>3</td>\n",
       "    </tr>\n",
       "    <tr>\n",
       "      <th>2182</th>\n",
       "      <td>2017</td>\n",
       "      <td>94133</td>\n",
       "      <td>4</td>\n",
       "      <td>4</td>\n",
       "      <td>3</td>\n",
       "      <td>3</td>\n",
       "      <td>4</td>\n",
       "      <td>2</td>\n",
       "    </tr>\n",
       "    <tr>\n",
       "      <th>2183</th>\n",
       "      <td>2017</td>\n",
       "      <td>94118</td>\n",
       "      <td>7</td>\n",
       "      <td>6</td>\n",
       "      <td>3</td>\n",
       "      <td>5</td>\n",
       "      <td>4</td>\n",
       "      <td>2</td>\n",
       "    </tr>\n",
       "  </tbody>\n",
       "</table>\n",
       "</div>"
      ],
      "text/plain": [
       "      year zipcode  dage  dlivedsf  deduc  dincome  movesf  ownrenhm\n",
       "2179  2017   94109     7         6      3        2       4         2\n",
       "2180  2017   94124     7         6      4        5       4         1\n",
       "2181  2017   94103     4         5      2        1       1         3\n",
       "2182  2017   94133     4         4      3        3       4         2\n",
       "2183  2017   94118     7         6      3        5       4         2"
      ]
     },
     "execution_count": 26,
     "metadata": {},
     "output_type": "execute_result"
    }
   ],
   "source": [
    "sf_df.head()"
   ]
  },
  {
   "cell_type": "code",
   "execution_count": 27,
   "metadata": {},
   "outputs": [
    {
     "data": {
      "text/plain": [
       "year        2166\n",
       "zipcode     2166\n",
       "dage        2166\n",
       "dlivedsf    2166\n",
       "deduc       2166\n",
       "dincome     2166\n",
       "movesf      2166\n",
       "ownrenhm    2166\n",
       "dtype: int64"
      ]
     },
     "execution_count": 27,
     "metadata": {},
     "output_type": "execute_result"
    }
   ],
   "source": [
    "sf_df.count()"
   ]
  },
  {
   "cell_type": "code",
   "execution_count": 28,
   "metadata": {},
   "outputs": [
    {
     "data": {
      "text/plain": [
       "7    449\n",
       "3    434\n",
       "4    390\n",
       "2    314\n",
       "5    197\n",
       "6    189\n",
       "1    140\n",
       "8     53\n",
       "Name: dage, dtype: int64"
      ]
     },
     "execution_count": 28,
     "metadata": {},
     "output_type": "execute_result"
    }
   ],
   "source": [
    "# count the frequency that a value occurs in a dataframe column\n",
    "\n",
    "sf_df['dage'].value_counts()"
   ]
  },
  {
   "cell_type": "code",
   "execution_count": 29,
   "metadata": {},
   "outputs": [],
   "source": [
    "#you have established what topic you want to focus on, then filter\n",
    "#citydf[citydf[\"Gender\"]==\"W\"]\n",
    "#df.loc[(df['column_name'] == some_value) & df['other_column'].isin(some_values)]\n",
    "very_likely = sf_df[sf_df['movesf']== 1]"
   ]
  },
  {
   "cell_type": "code",
   "execution_count": 30,
   "metadata": {},
   "outputs": [
    {
     "data": {
      "text/html": [
       "<div>\n",
       "<style scoped>\n",
       "    .dataframe tbody tr th:only-of-type {\n",
       "        vertical-align: middle;\n",
       "    }\n",
       "\n",
       "    .dataframe tbody tr th {\n",
       "        vertical-align: top;\n",
       "    }\n",
       "\n",
       "    .dataframe thead th {\n",
       "        text-align: right;\n",
       "    }\n",
       "</style>\n",
       "<table border=\"1\" class=\"dataframe\">\n",
       "  <thead>\n",
       "    <tr style=\"text-align: right;\">\n",
       "      <th></th>\n",
       "      <th>year</th>\n",
       "      <th>zipcode</th>\n",
       "      <th>dage</th>\n",
       "      <th>dlivedsf</th>\n",
       "      <th>deduc</th>\n",
       "      <th>dincome</th>\n",
       "      <th>movesf</th>\n",
       "      <th>ownrenhm</th>\n",
       "    </tr>\n",
       "  </thead>\n",
       "  <tbody>\n",
       "    <tr>\n",
       "      <th>2181</th>\n",
       "      <td>2017</td>\n",
       "      <td>94103</td>\n",
       "      <td>4</td>\n",
       "      <td>5</td>\n",
       "      <td>2</td>\n",
       "      <td>1</td>\n",
       "      <td>1</td>\n",
       "      <td>3</td>\n",
       "    </tr>\n",
       "    <tr>\n",
       "      <th>2194</th>\n",
       "      <td>2017</td>\n",
       "      <td>94102</td>\n",
       "      <td>2</td>\n",
       "      <td>2</td>\n",
       "      <td>4</td>\n",
       "      <td>4</td>\n",
       "      <td>1</td>\n",
       "      <td>2</td>\n",
       "    </tr>\n",
       "    <tr>\n",
       "      <th>2210</th>\n",
       "      <td>2017</td>\n",
       "      <td>94133</td>\n",
       "      <td>6</td>\n",
       "      <td>6</td>\n",
       "      <td>4</td>\n",
       "      <td>6</td>\n",
       "      <td>1</td>\n",
       "      <td>1</td>\n",
       "    </tr>\n",
       "    <tr>\n",
       "      <th>2213</th>\n",
       "      <td>2017</td>\n",
       "      <td>94110</td>\n",
       "      <td>1</td>\n",
       "      <td>2</td>\n",
       "      <td>3</td>\n",
       "      <td>5</td>\n",
       "      <td>1</td>\n",
       "      <td>2</td>\n",
       "    </tr>\n",
       "    <tr>\n",
       "      <th>2221</th>\n",
       "      <td>2017</td>\n",
       "      <td>94109</td>\n",
       "      <td>5</td>\n",
       "      <td>1</td>\n",
       "      <td>4</td>\n",
       "      <td>8</td>\n",
       "      <td>1</td>\n",
       "      <td>3</td>\n",
       "    </tr>\n",
       "  </tbody>\n",
       "</table>\n",
       "</div>"
      ],
      "text/plain": [
       "      year zipcode  dage  dlivedsf  deduc  dincome  movesf  ownrenhm\n",
       "2181  2017   94103     4         5      2        1       1         3\n",
       "2194  2017   94102     2         2      4        4       1         2\n",
       "2210  2017   94133     6         6      4        6       1         1\n",
       "2213  2017   94110     1         2      3        5       1         2\n",
       "2221  2017   94109     5         1      4        8       1         3"
      ]
     },
     "execution_count": 30,
     "metadata": {},
     "output_type": "execute_result"
    }
   ],
   "source": [
    "very_likely.head()"
   ]
  },
  {
   "cell_type": "code",
   "execution_count": 31,
   "metadata": {},
   "outputs": [],
   "source": [
    "age_group_moveout = very_likely['dage'].value_counts()"
   ]
  },
  {
   "cell_type": "code",
   "execution_count": 32,
   "metadata": {},
   "outputs": [
    {
     "name": "stdout",
     "output_type": "stream",
     "text": [
      "3    63\n",
      "2    57\n",
      "4    32\n",
      "1    22\n",
      "7    19\n",
      "6    17\n",
      "5    15\n",
      "8     2\n",
      "Name: dage, dtype: int64\n"
     ]
    }
   ],
   "source": [
    "print (age_group_moveout)"
   ]
  },
  {
   "cell_type": "code",
   "execution_count": 33,
   "metadata": {},
   "outputs": [
    {
     "data": {
      "text/plain": [
       "(0, 73)"
      ]
     },
     "execution_count": 33,
     "metadata": {},
     "output_type": "execute_result"
    },
    {
     "data": {
      "image/png": "[encoded data removed]",
      "text/plain": [
       "<matplotlib.figure.Figure at 0x2169d25ce80>"
      ]
     },
     "metadata": {},
     "output_type": "display_data"
    }
   ],
   "source": [
    "x_axis =np.arange(len(age_group_moveout))\n",
    "plt.bar(x_axis, age_group_moveout, color='b', alpha=0.5)\n",
    "tick_locations = [value+0.4 for value in x_axis]\n",
    "plt.xticks(tick_locations, [\"35-44yo\", \"25-34yo\", \"45-54yo\", \"18-24yo\", \"65+yo\", \"60-64yo\", \"55-59yo\", \"No answer\"], rotation='vertical')\n",
    "# Give our chart some labels and a tile\n",
    "plt.title(\"Age Groups Very Likely to move out of San Francisco\")\n",
    "plt.xlabel(\"Age Groups\")\n",
    "plt.ylabel(\"Very Likely to move out of San Francisco\")\n",
    "plt.ylim(0, max(age_group_moveout)+10)"
   ]
  },
  {
   "cell_type": "code",
   "execution_count": 35,
   "metadata": {},
   "outputs": [
    {
     "name": "stdout",
     "output_type": "stream",
     "text": [
      "6    50\n",
      "5    50\n",
      "8    37\n",
      "7    31\n",
      "4    19\n",
      "2    15\n",
      "3    13\n",
      "1    12\n",
      "Name: dincome, dtype: int64\n"
     ]
    }
   ],
   "source": [
    "income_moveout = very_likely['dincome'].value_counts()\n",
    "print (income_moveout)"
   ]
  },
  {
   "cell_type": "code",
   "execution_count": 36,
   "metadata": {},
   "outputs": [
    {
     "data": {
      "text/plain": [
       "(0, 60)"
      ]
     },
     "execution_count": 36,
     "metadata": {},
     "output_type": "execute_result"
    },
    {
     "data": {
      "image/png": "[encoded data removed]",
      "text/plain": [
       "<matplotlib.figure.Figure at 0x2169d72d518>"
      ]
     },
     "metadata": {},
     "output_type": "display_data"
    }
   ],
   "source": [
    "x_axis =np.arange(len(income_moveout))\n",
    "plt.bar(x_axis, income_moveout, color='g', alpha=0.5)\n",
    "tick_locations = [value+0.4 for value in x_axis]\n",
    "plt.xticks(tick_locations, [\"$100,001 to $200,000\", \"$50,001 to $100,000 \", \"Refused\", \"$200,000+\", \"$35,001 to $50,000\", \"$10,001 or $25,000\", \"$25,001 to $35,000\", \"$10,000 or less\"], rotation='vertical')\n",
    "# Give our chart some labels and a tile\n",
    "plt.title(\"Income Bracket Very Likely to move out of San Francisco\")\n",
    "plt.xlabel(\"Income Brackets\")\n",
    "plt.ylabel(\"Very Likely to move out of San Francisco\")\n",
    "plt.ylim(0, max(income_moveout)+10)"
   ]
  },
  {
   "cell_type": "code",
   "execution_count": 37,
   "metadata": {},
   "outputs": [
    {
     "data": {
      "text/plain": [
       "array([[<matplotlib.axes._subplots.AxesSubplot object at 0x000002169D73F358>,\n",
       "        <matplotlib.axes._subplots.AxesSubplot object at 0x000002169B791A90>,\n",
       "        <matplotlib.axes._subplots.AxesSubplot object at 0x000002169BBBD828>],\n",
       "       [<matplotlib.axes._subplots.AxesSubplot object at 0x000002169BB9B630>,\n",
       "        <matplotlib.axes._subplots.AxesSubplot object at 0x000002169D42FB70>,\n",
       "        <matplotlib.axes._subplots.AxesSubplot object at 0x000002169D42FBA8>],\n",
       "       [<matplotlib.axes._subplots.AxesSubplot object at 0x000002169D4688D0>,\n",
       "        <matplotlib.axes._subplots.AxesSubplot object at 0x000002169D49E898>,\n",
       "        <matplotlib.axes._subplots.AxesSubplot object at 0x000002169D996908>]],\n",
       "      dtype=object)"
      ]
     },
     "execution_count": 37,
     "metadata": {},
     "output_type": "execute_result"
    },
    {
     "data": {
      "image/png": "[encoded data removed]",
      "text/plain": [
       "<matplotlib.figure.Figure at 0x2169aeca0b8>"
      ]
     },
     "metadata": {},
     "output_type": "display_data"
    }
   ],
   "source": [
    "%matplotlib inline\n",
    "#city_data_df.plot(x='general', y='district')\n",
    "sf_df.hist(figsize=(10,10))"
   ]
  },
  {
   "cell_type": "code",
   "execution_count": 40,
   "metadata": {},
   "outputs": [
    {
     "data": {
      "text/plain": [
       "94112    228\n",
       "94110    180\n",
       "94122    131\n",
       "94109    129\n",
       "94124    115\n",
       "94116    114\n",
       "94118    113\n",
       "94121    103\n",
       "94114    102\n",
       "94134    100\n",
       "94115     94\n",
       "94117     94\n",
       "94102     82\n",
       "94132     79\n",
       "94103     78\n",
       "94131     76\n",
       "94127     74\n",
       "94133     61\n",
       "94107     51\n",
       "94123     41\n",
       "99999     28\n",
       "94108     23\n",
       "94105     18\n",
       "94104     12\n",
       "94158     12\n",
       "94111     11\n",
       "94129      9\n",
       "94130      4\n",
       "94125      2\n",
       "94126      1\n",
       "94120      1\n",
       "Name: zipcode, dtype: int64"
      ]
     },
     "execution_count": 40,
     "metadata": {},
     "output_type": "execute_result"
    }
   ],
   "source": [
    "sf_df['zipcode'].value_counts()\n"
   ]
  },
  {
   "cell_type": "code",
   "execution_count": null,
   "metadata": {},
   "outputs": [],
   "source": []
  }
 ],
 "metadata": {
  "kernelspec": {
   "display_name": "PythonData2",
   "language": "python",
   "name": "envname"
  },
  "language_info": {
   "codemirror_mode": {
    "name": "ipython",
    "version": 3
   },
   "file_extension": ".py",
   "mimetype": "text/x-python",
   "name": "python",
   "nbconvert_exporter": "python",
   "pygments_lexer": "ipython3",
   "version": "3.6.4"
  }
 },
 "nbformat": 4,
 "nbformat_minor": 2
}
