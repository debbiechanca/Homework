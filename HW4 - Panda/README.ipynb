{
 "cells": [
  {
   "cell_type": "code",
   "execution_count": null,
   "metadata": {
    "collapsed": true
   },
   "outputs": [],
   "source": [
    "# Analysis of fantasy game called Heroes of Pymoli \n",
    "#\n",
    "#Objective: Analyze the data for a recent fantasy game called Heroes of Pymoli.  This game is free to play , \n",
    "#but players are encouraged to purchase optional items that will enhance the playing experience.  The task is to generate\n",
    "#a report that breaks down the game's purchasing data into meaningful insights.\n",
    "#\n",
    "#The report includes:\n",
    "#\t1) Player Count - Total number of players\n",
    "#    \n",
    "#\t2) Purchasing analysis (Total) - Number of unique items, average purchase price, total number of purchases, and total revenue\n",
    "#    \n",
    "#\t3) Gender demographics - Percentage and count of male players, percentage and count of female players, \n",
    "#    and percentage and count of Other/Non-Disclosed\n",
    "#    \n",
    "#\t4) Purchasing analysis by gender - Purchase Count, Average Purchase Price, Total Purchase Value, Normalized Totals\n",
    "#    \n",
    "#\t5) Age range demographics in increments of 4 years (i.e. <10, 10-14, 15-19, etc.) \n",
    "#\t\t- Purchase Count, Average Purchase Price, Total Purchase Value, Normalized Totals\n",
    "#        \n",
    "#\t6) Top spenders by total purchase value - SN, Purchase Count, Average Purchase Price, Total Purchase Value\n",
    "#    \n",
    "#\t7) Most popular items by purchase count - Item ID, Item Name, Purchase Count, Item Price, Total Purchase Value\n",
    "#    \n",
    "#\t8) Most profitable items by total purchase value - Item ID, Item Name, Purchase Count, Item Price, Total Purchase Value\n",
    "#\n",
    "## Directory\n",
    "#  Data - purchase_data.json and purchase_data2.json\n",
    "#  Additional resource - HeroesofPymoli_Example shows format of results"
   ]
  }
 ],
 "metadata": {
  "kernelspec": {
   "display_name": "Python (PythonData)",
   "language": "python",
   "name": "pythondata"
  },
  "language_info": {
   "codemirror_mode": {
    "name": "ipython",
    "version": 3
   },
   "file_extension": ".py",
   "mimetype": "text/x-python",
   "name": "python",
   "nbconvert_exporter": "python",
   "pygments_lexer": "ipython3",
   "version": "3.6.3"
  }
 },
 "nbformat": 4,
 "nbformat_minor": 2
}
