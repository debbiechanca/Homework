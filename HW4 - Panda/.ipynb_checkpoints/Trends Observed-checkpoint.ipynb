{
 "cells": [
  {
   "cell_type": "code",
   "execution_count": null,
   "metadata": {
    "collapsed": true
   },
   "outputs": [],
   "source": [
    "Trends observed in the report generated for Heroes of Pymoli\n",
    "\n",
    "1) Looking at the results of both data set, more than 80% of the total players are male.\n",
    "2) Looking at the results of both data set, the age range between 20-23 years old purchased the most optional items. \n",
    "Followed by age range 24-27 then >31 age range.\n",
    "3) For data set 'purchase_data.json', based on total purchase value, top spenders made between 3 and 5 purchases.\n",
    "4) For data set 'purchase_data2.json', the analysis of the most popular items by purchase count were misleading as \n",
    "there were many purchase counts of 2  within the top 5 and below the top 5.  Based on the results, there were several \n",
    "items tied for second place.  This report may not be as helpful to make a determination of the top item seller. "
   ]
  }
 ],
 "metadata": {
  "kernelspec": {
   "display_name": "Python (PythonData)",
   "language": "python",
   "name": "pythondata"
  },
  "language_info": {
   "codemirror_mode": {
    "name": "ipython",
    "version": 3
   },
   "file_extension": ".py",
   "mimetype": "text/x-python",
   "name": "python",
   "nbconvert_exporter": "python",
   "pygments_lexer": "ipython3",
   "version": "3.6.3"
  }
 },
 "nbformat": 4,
 "nbformat_minor": 2
}
